{
 "cells": [
  {
   "cell_type": "code",
   "execution_count": 2,
   "metadata": {},
   "outputs": [],
   "source": [
    "import pandas as pd\n",
    "import numpy as np"
   ]
  },
  {
   "cell_type": "markdown",
   "source": [
    "# 1. Data Preparation"
   ],
   "metadata": {
    "collapsed": false
   }
  },
  {
   "cell_type": "code",
   "execution_count": 117,
   "metadata": {},
   "outputs": [],
   "source": [
    "# load dataset\n",
    "data = pd.read_csv('data/Dataset_DeConinck_R.csv', encoding='latin-1')\n",
    "# Add an ID column\n",
    "data['ID'] = range(1, len(data) + 1)  # This will create IDs starting from 1"
   ]
  },
  {
   "cell_type": "code",
   "execution_count": 89,
   "metadata": {},
   "outputs": [
    {
     "data": {
      "text/plain": "   cntry  ans_id  V001  V002  V002bea  V002beb  V002at  V002de  V002es   \n0      4     100     2    62      NaN      NaN     NaN     NaN     7.0  \\\n1      4     233     2    43      NaN      NaN     NaN     NaN    14.0   \n2      4     373     2    34      NaN      NaN     NaN     NaN    17.0   \n3      4     405     2    53      NaN      NaN     NaN     NaN    14.0   \n4      4     462     1    40      NaN      NaN     NaN     NaN     7.0   \n5      4     476     1    40      NaN      NaN     NaN     NaN     7.0   \n6      4     501     1    40      NaN      NaN     NaN     NaN     7.0   \n7      4     546     1    40      NaN      NaN     NaN     NaN     7.0   \n8      4     557     1    40      NaN      NaN     NaN     NaN     7.0   \n9      4     570     1    40      NaN      NaN     NaN     NaN     7.0   \n\n   V002it  ...  V058_6  V058_7  V058_8  V058_9  V058_10  V059  Leeftijd3N   \n0     NaN  ...     NaN     NaN     NaN     NaN      NaN   NaN           3  \\\n1     NaN  ...     NaN     NaN     NaN     NaN      NaN   NaN           2   \n2     NaN  ...     NaN     NaN     NaN     NaN      NaN   NaN           1   \n3     NaN  ...     NaN     NaN     NaN     NaN      NaN   NaN           2   \n4     NaN  ...     NaN     NaN     NaN     NaN      NaN   NaN           2   \n5     NaN  ...     NaN     NaN     NaN     NaN      NaN   NaN           2   \n6     NaN  ...     NaN     NaN     NaN     NaN      NaN   NaN           2   \n7     NaN  ...     NaN     NaN     NaN     NaN      NaN   NaN           2   \n8     NaN  ...     NaN     NaN     NaN     NaN      NaN   NaN           2   \n9     NaN  ...     NaN     NaN     NaN     NaN      NaN   NaN           2   \n\n  Diploma2    Weging  ID  \n0        1  1.400395   1  \n1        2  0.720534   2  \n2        2  0.716512   3  \n3        1  1.374635   4  \n4        2  0.689156   5  \n5        2  0.689156   6  \n6        2  0.689156   7  \n7        2  0.689156   8  \n8        2  0.689156   9  \n9        2  0.689156  10  \n\n[10 rows x 636 columns]",
      "text/html": "<div>\n<style scoped>\n    .dataframe tbody tr th:only-of-type {\n        vertical-align: middle;\n    }\n\n    .dataframe tbody tr th {\n        vertical-align: top;\n    }\n\n    .dataframe thead th {\n        text-align: right;\n    }\n</style>\n<table border=\"1\" class=\"dataframe\">\n  <thead>\n    <tr style=\"text-align: right;\">\n      <th></th>\n      <th>cntry</th>\n      <th>ans_id</th>\n      <th>V001</th>\n      <th>V002</th>\n      <th>V002bea</th>\n      <th>V002beb</th>\n      <th>V002at</th>\n      <th>V002de</th>\n      <th>V002es</th>\n      <th>V002it</th>\n      <th>...</th>\n      <th>V058_6</th>\n      <th>V058_7</th>\n      <th>V058_8</th>\n      <th>V058_9</th>\n      <th>V058_10</th>\n      <th>V059</th>\n      <th>Leeftijd3N</th>\n      <th>Diploma2</th>\n      <th>Weging</th>\n      <th>ID</th>\n    </tr>\n  </thead>\n  <tbody>\n    <tr>\n      <th>0</th>\n      <td>4</td>\n      <td>100</td>\n      <td>2</td>\n      <td>62</td>\n      <td>NaN</td>\n      <td>NaN</td>\n      <td>NaN</td>\n      <td>NaN</td>\n      <td>7.0</td>\n      <td>NaN</td>\n      <td>...</td>\n      <td>NaN</td>\n      <td>NaN</td>\n      <td>NaN</td>\n      <td>NaN</td>\n      <td>NaN</td>\n      <td>NaN</td>\n      <td>3</td>\n      <td>1</td>\n      <td>1.400395</td>\n      <td>1</td>\n    </tr>\n    <tr>\n      <th>1</th>\n      <td>4</td>\n      <td>233</td>\n      <td>2</td>\n      <td>43</td>\n      <td>NaN</td>\n      <td>NaN</td>\n      <td>NaN</td>\n      <td>NaN</td>\n      <td>14.0</td>\n      <td>NaN</td>\n      <td>...</td>\n      <td>NaN</td>\n      <td>NaN</td>\n      <td>NaN</td>\n      <td>NaN</td>\n      <td>NaN</td>\n      <td>NaN</td>\n      <td>2</td>\n      <td>2</td>\n      <td>0.720534</td>\n      <td>2</td>\n    </tr>\n    <tr>\n      <th>2</th>\n      <td>4</td>\n      <td>373</td>\n      <td>2</td>\n      <td>34</td>\n      <td>NaN</td>\n      <td>NaN</td>\n      <td>NaN</td>\n      <td>NaN</td>\n      <td>17.0</td>\n      <td>NaN</td>\n      <td>...</td>\n      <td>NaN</td>\n      <td>NaN</td>\n      <td>NaN</td>\n      <td>NaN</td>\n      <td>NaN</td>\n      <td>NaN</td>\n      <td>1</td>\n      <td>2</td>\n      <td>0.716512</td>\n      <td>3</td>\n    </tr>\n    <tr>\n      <th>3</th>\n      <td>4</td>\n      <td>405</td>\n      <td>2</td>\n      <td>53</td>\n      <td>NaN</td>\n      <td>NaN</td>\n      <td>NaN</td>\n      <td>NaN</td>\n      <td>14.0</td>\n      <td>NaN</td>\n      <td>...</td>\n      <td>NaN</td>\n      <td>NaN</td>\n      <td>NaN</td>\n      <td>NaN</td>\n      <td>NaN</td>\n      <td>NaN</td>\n      <td>2</td>\n      <td>1</td>\n      <td>1.374635</td>\n      <td>4</td>\n    </tr>\n    <tr>\n      <th>4</th>\n      <td>4</td>\n      <td>462</td>\n      <td>1</td>\n      <td>40</td>\n      <td>NaN</td>\n      <td>NaN</td>\n      <td>NaN</td>\n      <td>NaN</td>\n      <td>7.0</td>\n      <td>NaN</td>\n      <td>...</td>\n      <td>NaN</td>\n      <td>NaN</td>\n      <td>NaN</td>\n      <td>NaN</td>\n      <td>NaN</td>\n      <td>NaN</td>\n      <td>2</td>\n      <td>2</td>\n      <td>0.689156</td>\n      <td>5</td>\n    </tr>\n    <tr>\n      <th>5</th>\n      <td>4</td>\n      <td>476</td>\n      <td>1</td>\n      <td>40</td>\n      <td>NaN</td>\n      <td>NaN</td>\n      <td>NaN</td>\n      <td>NaN</td>\n      <td>7.0</td>\n      <td>NaN</td>\n      <td>...</td>\n      <td>NaN</td>\n      <td>NaN</td>\n      <td>NaN</td>\n      <td>NaN</td>\n      <td>NaN</td>\n      <td>NaN</td>\n      <td>2</td>\n      <td>2</td>\n      <td>0.689156</td>\n      <td>6</td>\n    </tr>\n    <tr>\n      <th>6</th>\n      <td>4</td>\n      <td>501</td>\n      <td>1</td>\n      <td>40</td>\n      <td>NaN</td>\n      <td>NaN</td>\n      <td>NaN</td>\n      <td>NaN</td>\n      <td>7.0</td>\n      <td>NaN</td>\n      <td>...</td>\n      <td>NaN</td>\n      <td>NaN</td>\n      <td>NaN</td>\n      <td>NaN</td>\n      <td>NaN</td>\n      <td>NaN</td>\n      <td>2</td>\n      <td>2</td>\n      <td>0.689156</td>\n      <td>7</td>\n    </tr>\n    <tr>\n      <th>7</th>\n      <td>4</td>\n      <td>546</td>\n      <td>1</td>\n      <td>40</td>\n      <td>NaN</td>\n      <td>NaN</td>\n      <td>NaN</td>\n      <td>NaN</td>\n      <td>7.0</td>\n      <td>NaN</td>\n      <td>...</td>\n      <td>NaN</td>\n      <td>NaN</td>\n      <td>NaN</td>\n      <td>NaN</td>\n      <td>NaN</td>\n      <td>NaN</td>\n      <td>2</td>\n      <td>2</td>\n      <td>0.689156</td>\n      <td>8</td>\n    </tr>\n    <tr>\n      <th>8</th>\n      <td>4</td>\n      <td>557</td>\n      <td>1</td>\n      <td>40</td>\n      <td>NaN</td>\n      <td>NaN</td>\n      <td>NaN</td>\n      <td>NaN</td>\n      <td>7.0</td>\n      <td>NaN</td>\n      <td>...</td>\n      <td>NaN</td>\n      <td>NaN</td>\n      <td>NaN</td>\n      <td>NaN</td>\n      <td>NaN</td>\n      <td>NaN</td>\n      <td>2</td>\n      <td>2</td>\n      <td>0.689156</td>\n      <td>9</td>\n    </tr>\n    <tr>\n      <th>9</th>\n      <td>4</td>\n      <td>570</td>\n      <td>1</td>\n      <td>40</td>\n      <td>NaN</td>\n      <td>NaN</td>\n      <td>NaN</td>\n      <td>NaN</td>\n      <td>7.0</td>\n      <td>NaN</td>\n      <td>...</td>\n      <td>NaN</td>\n      <td>NaN</td>\n      <td>NaN</td>\n      <td>NaN</td>\n      <td>NaN</td>\n      <td>NaN</td>\n      <td>2</td>\n      <td>2</td>\n      <td>0.689156</td>\n      <td>10</td>\n    </tr>\n  </tbody>\n</table>\n<p>10 rows × 636 columns</p>\n</div>"
     },
     "execution_count": 89,
     "metadata": {},
     "output_type": "execute_result"
    }
   ],
   "source": [
    "# check format\n",
    "data.head(10)"
   ]
  },
  {
   "cell_type": "code",
   "execution_count": 115,
   "outputs": [
    {
     "data": {
      "text/plain": "V001\n2    6991\n1    6654\nName: count, dtype: int64"
     },
     "execution_count": 115,
     "metadata": {},
     "output_type": "execute_result"
    }
   ],
   "source": [
    "data.V001.value_counts()"
   ],
   "metadata": {
    "collapsed": false
   }
  },
  {
   "cell_type": "code",
   "execution_count": 90,
   "outputs": [
    {
     "data": {
      "text/plain": "Index(['cntry', 'ans_id', 'V001', 'V002', 'V002bea', 'V002beb', 'V002at',\n       'V002de', 'V002es', 'V002it',\n       ...\n       'V058_6', 'V058_7', 'V058_8', 'V058_9', 'V058_10', 'V059', 'Leeftijd3N',\n       'Diploma2', 'Weging', 'ID'],\n      dtype='object', length=636)"
     },
     "execution_count": 90,
     "metadata": {},
     "output_type": "execute_result"
    }
   ],
   "source": [
    "data.keys()"
   ],
   "metadata": {
    "collapsed": false
   }
  },
  {
   "cell_type": "markdown",
   "source": [
    "## Data cleaning"
   ],
   "metadata": {
    "collapsed": false
   }
  },
  {
   "cell_type": "code",
   "execution_count": 118,
   "outputs": [],
   "source": [
    "# filter only data from european countries\n",
    "# Using loc to filter\n",
    "europe_df = data.loc[data['cntry'].isin([1,2,3,4,5,6,7])]"
   ],
   "metadata": {
    "collapsed": false
   }
  },
  {
   "cell_type": "code",
   "execution_count": 119,
   "outputs": [],
   "source": [
    "# keep only the columns we use for analysis\n",
    "# 1.1. socidemographic data + V040, V041s)\n",
    "v009_i = [\"V009_\" + str(i) for i in range(1, 10)]\n",
    "v010s = [\"V010\" + str(country) for country in [\"be\",\"at\",\"de\",\"es\",\"it\",\"hu\",\"se\"]]\n",
    "v011s = [\"V011\" + str(country) for country in [\"be\",\"at\",\"de\",\"es\",\"it\",\"hu\",\"se\"]]\n",
    "v041s = [\"V041_\" + str(i) for i in range(1, 7)]\n",
    "columns_to_keep = [\"ID\",\"cntry\"] + [\"V\" + str(i).zfill(3) for i in range(1,9)] + v009_i + v010s + v011s + [\"V012\",\"V013\",\"V020\",\"V021\",\"V022\",\"V040\"] + v041s\n",
    "columns_to_keep\n",
    "europe_df = europe_df[columns_to_keep]"
   ],
   "metadata": {
    "collapsed": false
   }
  },
  {
   "cell_type": "code",
   "execution_count": 120,
   "outputs": [
    {
     "data": {
      "text/plain": "Index(['ID', 'cntry', 'V001', 'V002', 'V003', 'V004', 'V005', 'V006', 'V007',\n       'V008', 'V009_1', 'V009_2', 'V009_3', 'V009_4', 'V009_5', 'V009_6',\n       'V009_7', 'V009_8', 'V009_9', 'V010be', 'V010at', 'V010de', 'V010es',\n       'V010it', 'V010hu', 'V010se', 'V011be', 'V011at', 'V011de', 'V011es',\n       'V011it', 'V011hu', 'V011se', 'V012', 'V013', 'V020', 'V021', 'V022',\n       'V040', 'V041_1', 'V041_2', 'V041_3', 'V041_4', 'V041_5', 'V041_6'],\n      dtype='object')"
     },
     "execution_count": 120,
     "metadata": {},
     "output_type": "execute_result"
    }
   ],
   "source": [
    "europe_df.keys()"
   ],
   "metadata": {
    "collapsed": false
   }
  },
  {
   "cell_type": "code",
   "execution_count": 123,
   "metadata": {},
   "outputs": [],
   "source": [
    "# rename column to make them more legible\n",
    "europe_df = europe_df.rename(columns = {'cntry' : 'Country',\n",
    "                          'V001' : 'Gender',\n",
    "                          'V002' : 'Age',\n",
    "                          'V003' : 'MaritalSt',\n",
    "                          'V006' : 'Parents',\n",
    "                          'V007' : 'OneParent',\n",
    "                          'V008' : 'BothParents',\n",
    "                        'V009_1' : 'FullTime',\n",
    "                        'V009_2' : 'PartTime',\n",
    "                        'V009_3' : 'Disabled',\n",
    "                        'V009_4' : 'Student',\n",
    "                        'V009_5' : 'Houseman',\n",
    "                        'V009_6' : 'Unemployed',\n",
    "                        'V009_7' : 'Retired',\n",
    "                        'V009_8' : 'Military',\n",
    "                        'V009_9' : 'Other',\n",
    "                          'V012' : 'EndsMeet',\n",
    "                          'V013' : 'PoliAff',\n",
    "                          'V020' : 'Religion',\n",
    "                          'V021' : 'ReligionImp',\n",
    "                          'V022' : 'ResidenceType',\n",
    "                          'V040' : 'FeelingThermometer',\n",
    "                        'V041_1' : 'Anger',\n",
    "                        'V041_2' : 'Fear',\n",
    "                        'V041_3' : 'Hope',\n",
    "                        'V041_4' : 'Sympathy',\n",
    "                        'V041_5' : 'Disgust',\n",
    "                        'V041_6' : 'Happiness'})"
   ]
  },
  {
   "cell_type": "code",
   "execution_count": 124,
   "metadata": {},
   "outputs": [
    {
     "data": {
      "text/plain": "Index(['ID', 'Country', 'Gender', 'Age', 'MaritalSt', 'V004', 'V005',\n       'Parents', 'OneParent', 'BothParents', 'FullTime', 'PartTime',\n       'Disabled', 'Student', 'Houseman', 'Unemployed', 'Retired', 'Military',\n       'Other', 'V010be', 'V010at', 'V010de', 'V010es', 'V010it', 'V010hu',\n       'V010se', 'V011be', 'V011at', 'V011de', 'V011es', 'V011it', 'V011hu',\n       'V011se', 'EndsMeet', 'PoliAff', 'Religion', 'ReligionImp',\n       'ResidenceType', 'FeelingThermometer', 'Anger', 'Fear', 'Hope',\n       'Sympathy', 'Disgust', 'Happiness'],\n      dtype='object')"
     },
     "execution_count": 124,
     "metadata": {},
     "output_type": "execute_result"
    }
   ],
   "source": [
    "europe_df.keys()"
   ]
  },
  {
   "cell_type": "code",
   "execution_count": 125,
   "outputs": [],
   "source": [
    "# one hot encoding for nominal variables\n",
    "# We use pandas get_dummies to perform one-hot encoding\n",
    "europe_df = pd.get_dummies(europe_df, columns=['Country','Gender','MaritalSt'])"
   ],
   "metadata": {
    "collapsed": false
   }
  },
  {
   "cell_type": "markdown",
   "source": [
    "## Birthplace\n",
    "Add \"Where were you born?\" column"
   ],
   "metadata": {
    "collapsed": false
   }
  },
  {
   "cell_type": "code",
   "execution_count": 126,
   "outputs": [
    {
     "name": "stdout",
     "output_type": "stream",
     "text": [
      "V004\n",
      "1.0    9817\n",
      "2.0     782\n",
      "Name: count, dtype: int64\n"
     ]
    },
    {
     "data": {
      "text/plain": "V005\n1.0    9817\n2.0     422\n3.0     357\n4.0       3\nName: count, dtype: int64"
     },
     "execution_count": 126,
     "metadata": {},
     "output_type": "execute_result"
    }
   ],
   "source": [
    "# where were you born?\n",
    "# merge columns V004 and V005 into a new column.\n",
    "print(europe_df.V004.value_counts())\n",
    "europe_df.V005.value_counts()"
   ],
   "metadata": {
    "collapsed": false
   }
  },
  {
   "cell_type": "code",
   "execution_count": 133,
   "outputs": [
    {
     "data": {
      "text/plain": "          ID  Age  Birthplace  Parents  OneParent  BothParents  FullTime   \n0          1   62         2.0      1.0    99999.0      99999.0         1  \\\n1          2   43         2.0      1.0    99999.0      99999.0         0   \n2          3   34         2.0      1.0    99999.0      99999.0         1   \n3          4   53         4.0      3.0    99999.0          2.0         0   \n4          5   40         2.0      1.0    99999.0      99999.0         1   \n...      ...  ...         ...      ...        ...          ...       ...   \n10594  10595   56         2.0      1.0    99999.0      99999.0         0   \n10595  10596   62         2.0      1.0    99999.0      99999.0         0   \n10596  10597   60         2.0      1.0    99999.0      99999.0         0   \n10597  10598   32         2.0      1.0    99999.0      99999.0         0   \n10598  10599   65         2.0      2.0        1.0      99999.0         0   \n\n       PartTime  Disabled  Student  ...  Italy  Hungary  Sweden   Male   \n0             0         0        0  ...  False    False   False  False  \\\n1             0         0        0  ...  False    False   False  False   \n2             0         0        0  ...  False    False   False  False   \n3             0         0        0  ...  False    False   False  False   \n4             0         0        0  ...  False    False   False   True   \n...         ...       ...      ...  ...    ...      ...     ...    ...   \n10594         1         0        0  ...  False    False   False  False   \n10595         0         0        0  ...  False    False   False   True   \n10596         0         0        0  ...  False    False   False   True   \n10597         1         0        0  ...  False    False   False   True   \n10598         0         0        0  ...  False    False   False   True   \n\n       Female  Unmarried  Cohabitation  Married  Divorced  Widowed  \n0        True      False         False     True     False    False  \n1        True      False          True    False     False    False  \n2        True      False         False     True     False    False  \n3        True      False         False     True     False    False  \n4       False      False         False     True     False    False  \n...       ...        ...           ...      ...       ...      ...  \n10594    True      False          True    False     False    False  \n10595   False      False         False     True     False    False  \n10596   False      False         False     True     False    False  \n10597   False      False         False     True     False    False  \n10598   False      False         False     True     False    False  \n\n[10599 rows x 55 columns]",
      "text/html": "<div>\n<style scoped>\n    .dataframe tbody tr th:only-of-type {\n        vertical-align: middle;\n    }\n\n    .dataframe tbody tr th {\n        vertical-align: top;\n    }\n\n    .dataframe thead th {\n        text-align: right;\n    }\n</style>\n<table border=\"1\" class=\"dataframe\">\n  <thead>\n    <tr style=\"text-align: right;\">\n      <th></th>\n      <th>ID</th>\n      <th>Age</th>\n      <th>Birthplace</th>\n      <th>Parents</th>\n      <th>OneParent</th>\n      <th>BothParents</th>\n      <th>FullTime</th>\n      <th>PartTime</th>\n      <th>Disabled</th>\n      <th>Student</th>\n      <th>...</th>\n      <th>Italy</th>\n      <th>Hungary</th>\n      <th>Sweden</th>\n      <th>Male</th>\n      <th>Female</th>\n      <th>Unmarried</th>\n      <th>Cohabitation</th>\n      <th>Married</th>\n      <th>Divorced</th>\n      <th>Widowed</th>\n    </tr>\n  </thead>\n  <tbody>\n    <tr>\n      <th>0</th>\n      <td>1</td>\n      <td>62</td>\n      <td>2.0</td>\n      <td>1.0</td>\n      <td>99999.0</td>\n      <td>99999.0</td>\n      <td>1</td>\n      <td>0</td>\n      <td>0</td>\n      <td>0</td>\n      <td>...</td>\n      <td>False</td>\n      <td>False</td>\n      <td>False</td>\n      <td>False</td>\n      <td>True</td>\n      <td>False</td>\n      <td>False</td>\n      <td>True</td>\n      <td>False</td>\n      <td>False</td>\n    </tr>\n    <tr>\n      <th>1</th>\n      <td>2</td>\n      <td>43</td>\n      <td>2.0</td>\n      <td>1.0</td>\n      <td>99999.0</td>\n      <td>99999.0</td>\n      <td>0</td>\n      <td>0</td>\n      <td>0</td>\n      <td>0</td>\n      <td>...</td>\n      <td>False</td>\n      <td>False</td>\n      <td>False</td>\n      <td>False</td>\n      <td>True</td>\n      <td>False</td>\n      <td>True</td>\n      <td>False</td>\n      <td>False</td>\n      <td>False</td>\n    </tr>\n    <tr>\n      <th>2</th>\n      <td>3</td>\n      <td>34</td>\n      <td>2.0</td>\n      <td>1.0</td>\n      <td>99999.0</td>\n      <td>99999.0</td>\n      <td>1</td>\n      <td>0</td>\n      <td>0</td>\n      <td>0</td>\n      <td>...</td>\n      <td>False</td>\n      <td>False</td>\n      <td>False</td>\n      <td>False</td>\n      <td>True</td>\n      <td>False</td>\n      <td>False</td>\n      <td>True</td>\n      <td>False</td>\n      <td>False</td>\n    </tr>\n    <tr>\n      <th>3</th>\n      <td>4</td>\n      <td>53</td>\n      <td>4.0</td>\n      <td>3.0</td>\n      <td>99999.0</td>\n      <td>2.0</td>\n      <td>0</td>\n      <td>0</td>\n      <td>0</td>\n      <td>0</td>\n      <td>...</td>\n      <td>False</td>\n      <td>False</td>\n      <td>False</td>\n      <td>False</td>\n      <td>True</td>\n      <td>False</td>\n      <td>False</td>\n      <td>True</td>\n      <td>False</td>\n      <td>False</td>\n    </tr>\n    <tr>\n      <th>4</th>\n      <td>5</td>\n      <td>40</td>\n      <td>2.0</td>\n      <td>1.0</td>\n      <td>99999.0</td>\n      <td>99999.0</td>\n      <td>1</td>\n      <td>0</td>\n      <td>0</td>\n      <td>0</td>\n      <td>...</td>\n      <td>False</td>\n      <td>False</td>\n      <td>False</td>\n      <td>True</td>\n      <td>False</td>\n      <td>False</td>\n      <td>False</td>\n      <td>True</td>\n      <td>False</td>\n      <td>False</td>\n    </tr>\n    <tr>\n      <th>...</th>\n      <td>...</td>\n      <td>...</td>\n      <td>...</td>\n      <td>...</td>\n      <td>...</td>\n      <td>...</td>\n      <td>...</td>\n      <td>...</td>\n      <td>...</td>\n      <td>...</td>\n      <td>...</td>\n      <td>...</td>\n      <td>...</td>\n      <td>...</td>\n      <td>...</td>\n      <td>...</td>\n      <td>...</td>\n      <td>...</td>\n      <td>...</td>\n      <td>...</td>\n      <td>...</td>\n    </tr>\n    <tr>\n      <th>10594</th>\n      <td>10595</td>\n      <td>56</td>\n      <td>2.0</td>\n      <td>1.0</td>\n      <td>99999.0</td>\n      <td>99999.0</td>\n      <td>0</td>\n      <td>1</td>\n      <td>0</td>\n      <td>0</td>\n      <td>...</td>\n      <td>False</td>\n      <td>False</td>\n      <td>False</td>\n      <td>False</td>\n      <td>True</td>\n      <td>False</td>\n      <td>True</td>\n      <td>False</td>\n      <td>False</td>\n      <td>False</td>\n    </tr>\n    <tr>\n      <th>10595</th>\n      <td>10596</td>\n      <td>62</td>\n      <td>2.0</td>\n      <td>1.0</td>\n      <td>99999.0</td>\n      <td>99999.0</td>\n      <td>0</td>\n      <td>0</td>\n      <td>0</td>\n      <td>0</td>\n      <td>...</td>\n      <td>False</td>\n      <td>False</td>\n      <td>False</td>\n      <td>True</td>\n      <td>False</td>\n      <td>False</td>\n      <td>False</td>\n      <td>True</td>\n      <td>False</td>\n      <td>False</td>\n    </tr>\n    <tr>\n      <th>10596</th>\n      <td>10597</td>\n      <td>60</td>\n      <td>2.0</td>\n      <td>1.0</td>\n      <td>99999.0</td>\n      <td>99999.0</td>\n      <td>0</td>\n      <td>0</td>\n      <td>0</td>\n      <td>0</td>\n      <td>...</td>\n      <td>False</td>\n      <td>False</td>\n      <td>False</td>\n      <td>True</td>\n      <td>False</td>\n      <td>False</td>\n      <td>False</td>\n      <td>True</td>\n      <td>False</td>\n      <td>False</td>\n    </tr>\n    <tr>\n      <th>10597</th>\n      <td>10598</td>\n      <td>32</td>\n      <td>2.0</td>\n      <td>1.0</td>\n      <td>99999.0</td>\n      <td>99999.0</td>\n      <td>0</td>\n      <td>1</td>\n      <td>0</td>\n      <td>0</td>\n      <td>...</td>\n      <td>False</td>\n      <td>False</td>\n      <td>False</td>\n      <td>True</td>\n      <td>False</td>\n      <td>False</td>\n      <td>False</td>\n      <td>True</td>\n      <td>False</td>\n      <td>False</td>\n    </tr>\n    <tr>\n      <th>10598</th>\n      <td>10599</td>\n      <td>65</td>\n      <td>2.0</td>\n      <td>2.0</td>\n      <td>1.0</td>\n      <td>99999.0</td>\n      <td>0</td>\n      <td>0</td>\n      <td>0</td>\n      <td>0</td>\n      <td>...</td>\n      <td>False</td>\n      <td>False</td>\n      <td>False</td>\n      <td>True</td>\n      <td>False</td>\n      <td>False</td>\n      <td>False</td>\n      <td>True</td>\n      <td>False</td>\n      <td>False</td>\n    </tr>\n  </tbody>\n</table>\n<p>10599 rows × 55 columns</p>\n</div>"
     },
     "execution_count": 133,
     "metadata": {},
     "output_type": "execute_result"
    }
   ],
   "source": [
    "# drop V004 not needed anymore\n",
    "europe_df.drop(\"V004\", axis = 1)"
   ],
   "metadata": {
    "collapsed": false
   }
  },
  {
   "cell_type": "code",
   "execution_count": 134,
   "outputs": [
    {
     "ename": "AttributeError",
     "evalue": "'DataFrame' object has no attribute 'V005'",
     "output_type": "error",
     "traceback": [
      "\u001B[0;31m---------------------------------------------------------------------------\u001B[0m",
      "\u001B[0;31mAttributeError\u001B[0m                            Traceback (most recent call last)",
      "Cell \u001B[0;32mIn[134], line 6\u001B[0m\n\u001B[1;32m      1\u001B[0m \u001B[38;5;66;03m# Values:\u001B[39;00m\n\u001B[1;32m      2\u001B[0m \u001B[38;5;66;03m# 1: in country of residence\u001B[39;00m\n\u001B[1;32m      3\u001B[0m \u001B[38;5;66;03m# 2: in another country in the European Union\u001B[39;00m\n\u001B[1;32m      4\u001B[0m \u001B[38;5;66;03m# 3: in another country outside of the European Union\u001B[39;00m\n\u001B[1;32m      5\u001B[0m \u001B[38;5;66;03m# 4: do not know\u001B[39;00m\n\u001B[0;32m----> 6\u001B[0m \u001B[43meurope_df\u001B[49m\u001B[38;5;241;43m.\u001B[39;49m\u001B[43mV005\u001B[49m\u001B[38;5;241m.\u001B[39mreplace({\n\u001B[1;32m      7\u001B[0m     \u001B[38;5;241m99999\u001B[39m:  \u001B[38;5;241m1\u001B[39m,\n\u001B[1;32m      8\u001B[0m     \u001B[38;5;241m1\u001B[39m:      \u001B[38;5;241m2\u001B[39m,\n\u001B[1;32m      9\u001B[0m     \u001B[38;5;241m2\u001B[39m:      \u001B[38;5;241m3\u001B[39m,\n\u001B[1;32m     10\u001B[0m     \u001B[38;5;241m3\u001B[39m:      \u001B[38;5;241m4\u001B[39m,\n\u001B[1;32m     11\u001B[0m }, inplace \u001B[38;5;241m=\u001B[39m \u001B[38;5;28;01mTrue\u001B[39;00m)\n",
      "File \u001B[0;32m~/miniconda3/envs/deep_rl/lib/python3.10/site-packages/pandas/core/generic.py:5989\u001B[0m, in \u001B[0;36mNDFrame.__getattr__\u001B[0;34m(self, name)\u001B[0m\n\u001B[1;32m   5982\u001B[0m \u001B[38;5;28;01mif\u001B[39;00m (\n\u001B[1;32m   5983\u001B[0m     name \u001B[38;5;129;01mnot\u001B[39;00m \u001B[38;5;129;01min\u001B[39;00m \u001B[38;5;28mself\u001B[39m\u001B[38;5;241m.\u001B[39m_internal_names_set\n\u001B[1;32m   5984\u001B[0m     \u001B[38;5;129;01mand\u001B[39;00m name \u001B[38;5;129;01mnot\u001B[39;00m \u001B[38;5;129;01min\u001B[39;00m \u001B[38;5;28mself\u001B[39m\u001B[38;5;241m.\u001B[39m_metadata\n\u001B[1;32m   5985\u001B[0m     \u001B[38;5;129;01mand\u001B[39;00m name \u001B[38;5;129;01mnot\u001B[39;00m \u001B[38;5;129;01min\u001B[39;00m \u001B[38;5;28mself\u001B[39m\u001B[38;5;241m.\u001B[39m_accessors\n\u001B[1;32m   5986\u001B[0m     \u001B[38;5;129;01mand\u001B[39;00m \u001B[38;5;28mself\u001B[39m\u001B[38;5;241m.\u001B[39m_info_axis\u001B[38;5;241m.\u001B[39m_can_hold_identifiers_and_holds_name(name)\n\u001B[1;32m   5987\u001B[0m ):\n\u001B[1;32m   5988\u001B[0m     \u001B[38;5;28;01mreturn\u001B[39;00m \u001B[38;5;28mself\u001B[39m[name]\n\u001B[0;32m-> 5989\u001B[0m \u001B[38;5;28;01mreturn\u001B[39;00m \u001B[38;5;28;43mobject\u001B[39;49m\u001B[38;5;241;43m.\u001B[39;49m\u001B[38;5;21;43m__getattribute__\u001B[39;49m\u001B[43m(\u001B[49m\u001B[38;5;28;43mself\u001B[39;49m\u001B[43m,\u001B[49m\u001B[43m \u001B[49m\u001B[43mname\u001B[49m\u001B[43m)\u001B[49m\n",
      "\u001B[0;31mAttributeError\u001B[0m: 'DataFrame' object has no attribute 'V005'"
     ]
    }
   ],
   "source": [
    "# Values:\n",
    "# 1: in country of residence\n",
    "# 2: in another country in the European Union\n",
    "# 3: in another country outside of the European Union\n",
    "# 4: do not know\n",
    "europe_df.V005.replace({\n",
    "    99999:  1,\n",
    "    1:      2,\n",
    "    2:      3,\n",
    "    3:      4,\n",
    "}, inplace = True)"
   ],
   "metadata": {
    "collapsed": false
   }
  },
  {
   "cell_type": "code",
   "execution_count": 128,
   "outputs": [
    {
     "data": {
      "text/plain": "V005\n2.0    9817\n3.0     422\n4.0     360\nName: count, dtype: int64"
     },
     "execution_count": 128,
     "metadata": {},
     "output_type": "execute_result"
    }
   ],
   "source": [
    "europe_df.V005.value_counts()"
   ],
   "metadata": {
    "collapsed": false
   }
  },
  {
   "cell_type": "code",
   "execution_count": 129,
   "outputs": [
    {
     "data": {
      "text/plain": "Gender_1\nFalse    5392\nTrue     5207\nName: count, dtype: int64"
     },
     "execution_count": 129,
     "metadata": {},
     "output_type": "execute_result"
    }
   ],
   "source": [
    "europe_df.Gender_1.value_counts()"
   ],
   "metadata": {
    "collapsed": false
   }
  },
  {
   "cell_type": "code",
   "execution_count": 130,
   "outputs": [],
   "source": [
    "#rename columns from one hot encoding\n",
    "europe_df = europe_df.rename(columns = {'V005'  : 'Birthplace',\n",
    "                                'Country_1'     : 'Belgium',\n",
    "                                'Country_2'     : 'Austria',\n",
    "                                'Country_3'     : 'Germany',\n",
    "                                'Country_4'     : 'Spain',\n",
    "                                'Country_5'     : 'Italy',\n",
    "                                'Country_6'     : 'Hungary',\n",
    "                                'Country_7'     : 'Sweden',\n",
    "                                'Gender_1'      : 'Male',\n",
    "                                'Gender_2'      : 'Female',\n",
    "                                'MaritalSt_1'   : 'Unmarried',\n",
    "                                'MaritalSt_2'   : 'Cohabitation',\n",
    "                                'MaritalSt_3'   : 'Married',\n",
    "                                'MaritalSt_4'   : 'Divorced',\n",
    "                                'MaritalSt_5'   : 'Widowed',\n",
    "                                        })"
   ],
   "metadata": {
    "collapsed": false
   }
  },
  {
   "cell_type": "code",
   "execution_count": 131,
   "outputs": [
    {
     "data": {
      "text/plain": "Index(['ID', 'Age', 'V004', 'Birthplace', 'Parents', 'OneParent',\n       'BothParents', 'FullTime', 'PartTime', 'Disabled', 'Student',\n       'Houseman', 'Unemployed', 'Retired', 'Military', 'Other', 'V010be',\n       'V010at', 'V010de', 'V010es', 'V010it', 'V010hu', 'V010se', 'V011be',\n       'V011at', 'V011de', 'V011es', 'V011it', 'V011hu', 'V011se', 'EndsMeet',\n       'PoliAff', 'Religion', 'ReligionImp', 'ResidenceType',\n       'FeelingThermometer', 'Anger', 'Fear', 'Hope', 'Sympathy', 'Disgust',\n       'Happiness', 'Belgium', 'Austria', 'Germany', 'Spain', 'Italy',\n       'Hungary', 'Sweden', 'Male', 'Female', 'Unmarried', 'Cohabitation',\n       'Married', 'Divorced', 'Widowed'],\n      dtype='object')"
     },
     "execution_count": 131,
     "metadata": {},
     "output_type": "execute_result"
    }
   ],
   "source": [
    "europe_df.keys()"
   ],
   "metadata": {
    "collapsed": false
   }
  },
  {
   "cell_type": "markdown",
   "source": [
    "### Education:\n",
    "Unify education column across all countries.\n",
    "5 groups:\n",
    "1. no schooling\n",
    "2. primary\n",
    "3. secondary\n",
    "4. training and education in a specific trade or profession)\n",
    "5. higher education\n",
    "6. don’t know"
   ],
   "metadata": {
    "collapsed": false
   }
  },
  {
   "cell_type": "code",
   "execution_count": 55,
   "outputs": [],
   "source": [
    "# unify education column across all countries\n",
    "# 5 groups 1. no schooling 2. primary 3.secondary 4. training and education in a specific trade or profession) 5. higher education 6. don’t know\n",
    "#1. no schooling already matches across all country columns\n",
    "# Belgium:\n",
    "europe_df.V010be.replace([2,3], 2, inplace=True) #primary\n",
    "europe_df.V010be.replace([4,5,9,10], 3, inplace=True) #secondary\n",
    "europe_df.V010be.replace([6,7,8,11], 4, inplace=True) #job training\n",
    "europe_df.V010be.replace([12,13,14,15,16,17,18], 5, inplace=True) # higher education\n",
    "europe_df.V010be.replace(19, 6, inplace=True) # dont know"
   ],
   "metadata": {
    "collapsed": false
   }
  },
  {
   "cell_type": "code",
   "execution_count": 56,
   "outputs": [
    {
     "data": {
      "text/plain": "V010be\n3.0    1205\n2.0     282\n1.0      10\n4.0       8\nName: count, dtype: int64"
     },
     "execution_count": 56,
     "metadata": {},
     "output_type": "execute_result"
    }
   ],
   "source": [
    "europe_df.V010be.value_counts()"
   ],
   "metadata": {
    "collapsed": false
   }
  },
  {
   "cell_type": "code",
   "execution_count": 57,
   "outputs": [],
   "source": [
    "# Austria primary matches\n",
    "europe_df.V010at.replace([3,4,5,8,10], 3, inplace=True) #secondary\n",
    "europe_df.V010at.replace([6,7,9,11], 4, inplace=True) #job training\n",
    "europe_df.V010at.replace([12,13,14,15,16,17,18], 5, inplace=True) # higher education\n",
    "europe_df.V010at.replace(19, 6, inplace=True) # dont know"
   ],
   "metadata": {
    "collapsed": false
   }
  },
  {
   "cell_type": "code",
   "execution_count": 59,
   "outputs": [
    {
     "data": {
      "text/plain": "V010at\n4.0    745\n3.0    434\n5.0    336\n2.0      3\n6.0      1\n1.0      1\nName: count, dtype: int64"
     },
     "execution_count": 59,
     "metadata": {},
     "output_type": "execute_result"
    }
   ],
   "source": [
    "europe_df.V010at.value_counts()"
   ],
   "metadata": {
    "collapsed": false
   }
  },
  {
   "cell_type": "code",
   "execution_count": 61,
   "outputs": [],
   "source": [
    "# Germany primary matches\n",
    "europe_df.V010de.replace([3,4,5,6], 3, inplace=True) #secondary\n",
    "europe_df.V010de.replace(7, 4, inplace=True) #job training\n",
    "europe_df.V010de.replace([8,9], 5, inplace=True) # higher education\n",
    "europe_df.V010de.replace(10, 6, inplace=True) # dont know"
   ],
   "metadata": {
    "collapsed": false
   }
  },
  {
   "cell_type": "code",
   "execution_count": 63,
   "outputs": [
    {
     "data": {
      "text/plain": "V010de\n3.0    553\n5.0    506\n4.0    455\n1.0      4\n2.0      2\n6.0      1\nName: count, dtype: int64"
     },
     "execution_count": 63,
     "metadata": {},
     "output_type": "execute_result"
    }
   ],
   "source": [
    "europe_df.V010de.value_counts()"
   ],
   "metadata": {
    "collapsed": false
   }
  },
  {
   "cell_type": "code",
   "execution_count": 64,
   "outputs": [],
   "source": [
    "# Spain:\n",
    "europe_df.V010es.replace([2,3,4,5,6,7], 2, inplace=True) #primary\n",
    "europe_df.V010es.replace([8,9,10,11,12], 3, inplace=True) #secondary\n",
    "europe_df.V010es.replace([13,14,15,16,17,18,19,20,21,22,23,24], 4, inplace=True) #job training\n",
    "europe_df.V010es.replace([25,26,27], 5, inplace=True) # higher education\n",
    "europe_df.V010es.replace(28, 6, inplace=True) # dont know"
   ],
   "metadata": {
    "collapsed": false
   }
  },
  {
   "cell_type": "code",
   "execution_count": 65,
   "outputs": [
    {
     "data": {
      "text/plain": "V010es\n5.0    635\n4.0    440\n3.0    345\n2.0     86\n6.0      6\nName: count, dtype: int64"
     },
     "execution_count": 65,
     "metadata": {},
     "output_type": "execute_result"
    }
   ],
   "source": [
    "europe_df.V010es.value_counts()"
   ],
   "metadata": {
    "collapsed": false
   }
  },
  {
   "cell_type": "code",
   "execution_count": 66,
   "outputs": [],
   "source": [
    "#Italy primary matches\n",
    "europe_df.V010it.replace([4,6,8,9], 3, inplace=True) #secondary\n",
    "europe_df.V010it.replace([3,5,7,10,11], 4, inplace=True) #job training\n",
    "europe_df.V010it.replace([12,13,14,15,16,17,18,19,20,21], 5, inplace=True) # higher education\n",
    "europe_df.V010it.replace(22, 6, inplace=True) # dont know"
   ],
   "metadata": {
    "collapsed": false
   }
  },
  {
   "cell_type": "code",
   "execution_count": 67,
   "outputs": [
    {
     "data": {
      "text/plain": "V010it\n4.0    967\n5.0    529\n2.0      9\n1.0      4\n6.0      1\nName: count, dtype: int64"
     },
     "execution_count": 67,
     "metadata": {},
     "output_type": "execute_result"
    }
   ],
   "source": [
    "europe_df.V010it.value_counts()"
   ],
   "metadata": {
    "collapsed": false
   }
  },
  {
   "cell_type": "code",
   "execution_count": 68,
   "outputs": [],
   "source": [
    "# Hungary:\n",
    "europe_df.V010hu.replace([2,3], 2, inplace=True) #primary\n",
    "europe_df.V010hu.replace([6,7], 3, inplace=True) #secondary\n",
    "europe_df.V010hu.replace([4,5,8,9], 4, inplace=True) #job training\n",
    "europe_df.V010hu.replace([10,11,12,13,14], 5, inplace=True) # higher education\n",
    "europe_df.V010hu.replace(15, 6, inplace=True) # dont know"
   ],
   "metadata": {
    "collapsed": false
   }
  },
  {
   "cell_type": "code",
   "execution_count": 69,
   "outputs": [
    {
     "data": {
      "text/plain": "V010hu\n5.0    524\n4.0    500\n3.0    439\n2.0     49\n6.0      2\nName: count, dtype: int64"
     },
     "execution_count": 69,
     "metadata": {},
     "output_type": "execute_result"
    }
   ],
   "source": [
    "europe_df.V010hu.value_counts()"
   ],
   "metadata": {
    "collapsed": false
   }
  },
  {
   "cell_type": "code",
   "execution_count": 70,
   "outputs": [],
   "source": [
    "# Sweden:\n",
    "europe_df.V010se.replace([2,3], 2, inplace=True) #primary\n",
    "europe_df.V010se.replace([5,6,8], 3, inplace=True) #secondary\n",
    "europe_df.V010se.replace([4,7,10,12], 4, inplace=True) #job training\n",
    "europe_df.V010se.replace([9,11,13,14,15,16,17,18,19,20], 5, inplace=True) # higher education\n",
    "europe_df.V010se.replace(21, 6, inplace=True) # dont know"
   ],
   "metadata": {
    "collapsed": false
   }
  },
  {
   "cell_type": "code",
   "execution_count": 71,
   "outputs": [
    {
     "data": {
      "text/plain": "V010se\n5.0    650\n4.0    398\n3.0    358\n2.0     93\n6.0     12\n1.0      6\nName: count, dtype: int64"
     },
     "execution_count": 71,
     "metadata": {},
     "output_type": "execute_result"
    }
   ],
   "source": [
    "europe_df.V010se.value_counts()"
   ],
   "metadata": {
    "collapsed": false
   }
  },
  {
   "cell_type": "markdown",
   "source": [],
   "metadata": {
    "collapsed": false
   }
  },
  {
   "cell_type": "code",
   "execution_count": 135,
   "outputs": [],
   "source": [
    "#rename for legibility\n",
    "europe_df = europe_df.rename(columns = {'V010be'  : 'EducationBe',\n",
    "                                        'V010at'  : 'EducationAt',\n",
    "                                        'V010de'  : 'EducationDe',\n",
    "                                        'V010es'  : 'EducationEs',\n",
    "                                        'V010it'  : 'EducationIt',\n",
    "                                        'V010hu'  : 'EducationHu',\n",
    "                                        'V010Se'  : 'EducationSe',\n",
    "                                        })"
   ],
   "metadata": {
    "collapsed": false
   }
  },
  {
   "cell_type": "code",
   "execution_count": null,
   "outputs": [],
   "source": [
    "#maybe add another column to the df with one combined value for education across the countries?"
   ],
   "metadata": {
    "collapsed": false
   }
  },
  {
   "cell_type": "markdown",
   "source": [
    "## Sentiment columns\n",
    "Group into negative and positive feelings towards immigrants"
   ],
   "metadata": {
    "collapsed": false
   }
  },
  {
   "cell_type": "code",
   "execution_count": 79,
   "outputs": [],
   "source": [
    "europe_df['NegativeEmo'] = europe_df['Anger'] + europe_df['Fear'] + europe_df['Disgust']\n",
    "europe_df['PositiveEmo'] = europe_df['Hope'] + europe_df['Sympathy'] + europe_df['Happiness']\n",
    "# Add a binary column based on the overall sentiment\n",
    "europe_df['SentimentBinary'] = np.where(europe_df['NegativeEmo'] > europe_df['PositiveEmo'], 0, 1)\n",
    "# 0 overall negative sentiment\n",
    "# 1 overall positive sentiment"
   ],
   "metadata": {
    "collapsed": false
   }
  },
  {
   "cell_type": "code",
   "execution_count": 83,
   "outputs": [
    {
     "data": {
      "text/plain": "0        1\n1        1\n2        1\n3        1\n4        1\n        ..\n10594    0\n10595    0\n10596    1\n10597    0\n10598    1\nName: SentimentBinary, Length: 10599, dtype: int64"
     },
     "execution_count": 83,
     "metadata": {},
     "output_type": "execute_result"
    }
   ],
   "source": [
    "europe_df.SentimentBinary"
   ],
   "metadata": {
    "collapsed": false
   }
  },
  {
   "cell_type": "markdown",
   "metadata": {},
   "source": [
    "V041_1 = anger\n",
    "V041_2 = fear\n",
    "V041_5 = disgust\n",
    "\n",
    "V041_3 = hope\n",
    "V041_4 = sympathy\n",
    "V041_6 = happiness\n",
    "\n",
    "Negative_Sentiment = average or sum of (V041_1, V041_2, V041_5)\n",
    "\n",
    "Positive_Sentiment = average or sum of (V041_3, V041_4, V041_6)\n",
    "\n",
    "For binary label take whichever sentiment is higher \n",
    "\n",
    "We need to pick what vars we care about\n",
    "\n",
    "Can we keep ordinal vars? Just need to make sure they're following the same tred (ex. \"worst\" to \"best\")\n",
    "\n",
    "One-hot encoding for vars without ranking"
   ]
  },
  {
   "cell_type": "code",
   "execution_count": null,
   "outputs": [],
   "source": [],
   "metadata": {
    "collapsed": false
   }
  },
  {
   "cell_type": "markdown",
   "source": [
    "## Data cleaning"
   ],
   "metadata": {
    "collapsed": false
   }
  },
  {
   "cell_type": "markdown",
   "source": [
    "# 2. Data Exploration"
   ],
   "metadata": {
    "collapsed": false
   }
  },
  {
   "cell_type": "code",
   "execution_count": null,
   "outputs": [],
   "source": [
    "# plots: What do we want to plot?\n"
   ],
   "metadata": {
    "collapsed": false
   }
  },
  {
   "cell_type": "markdown",
   "source": [
    "# Analysis"
   ],
   "metadata": {
    "collapsed": false
   }
  },
  {
   "cell_type": "markdown",
   "source": [
    "lets add ## subheadings to make it easier to reference\n"
   ],
   "metadata": {
    "collapsed": false
   }
  },
  {
   "cell_type": "code",
   "execution_count": null,
   "outputs": [],
   "source": [],
   "metadata": {
    "collapsed": false
   }
  }
 ],
 "metadata": {
  "kernelspec": {
   "display_name": "Python 3",
   "language": "python",
   "name": "python3"
  },
  "language_info": {
   "codemirror_mode": {
    "name": "ipython",
    "version": 3
   },
   "file_extension": ".py",
   "mimetype": "text/x-python",
   "name": "python",
   "nbconvert_exporter": "python",
   "pygments_lexer": "ipython3",
   "version": "3.11.9"
  }
 },
 "nbformat": 4,
 "nbformat_minor": 2
}
