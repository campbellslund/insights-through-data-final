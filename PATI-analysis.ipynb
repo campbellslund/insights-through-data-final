{
 "cells": [
  {
   "cell_type": "code",
   "execution_count": 2,
   "metadata": {},
   "outputs": [],
   "source": [
    "import pandas as pd\n",
    "import numpy as np"
   ]
  },
  {
   "cell_type": "markdown",
   "source": [
    "# 1. Data Preparation"
   ],
   "metadata": {
    "collapsed": false
   }
  },
  {
   "cell_type": "code",
   "execution_count": 74,
   "metadata": {},
   "outputs": [],
   "source": [
    "# load dataset\n",
    "data = pd.read_csv('data/Dataset_DeConinck_R.csv', encoding='latin-1')\n",
    "# Add an ID column\n",
    "data['ID'] = range(1, len(data) + 1)  # This will create IDs starting from 1"
   ]
  },
  {
   "cell_type": "code",
   "execution_count": 77,
   "metadata": {},
   "outputs": [
    {
     "data": {
      "text/plain": "   cntry  ans_id  V001  V002  V002bea  V002beb  V002at  V002de  V002es   \n0      4     100     2    62      NaN      NaN     NaN     NaN     7.0  \\\n1      4     233     2    43      NaN      NaN     NaN     NaN    14.0   \n2      4     373     2    34      NaN      NaN     NaN     NaN    17.0   \n3      4     405     2    53      NaN      NaN     NaN     NaN    14.0   \n4      4     462     1    40      NaN      NaN     NaN     NaN     7.0   \n5      4     476     1    40      NaN      NaN     NaN     NaN     7.0   \n6      4     501     1    40      NaN      NaN     NaN     NaN     7.0   \n7      4     546     1    40      NaN      NaN     NaN     NaN     7.0   \n8      4     557     1    40      NaN      NaN     NaN     NaN     7.0   \n9      4     570     1    40      NaN      NaN     NaN     NaN     7.0   \n\n   V002it  ...  V058_6  V058_7  V058_8  V058_9  V058_10  V059  Leeftijd3N   \n0     NaN  ...     NaN     NaN     NaN     NaN      NaN   NaN           3  \\\n1     NaN  ...     NaN     NaN     NaN     NaN      NaN   NaN           2   \n2     NaN  ...     NaN     NaN     NaN     NaN      NaN   NaN           1   \n3     NaN  ...     NaN     NaN     NaN     NaN      NaN   NaN           2   \n4     NaN  ...     NaN     NaN     NaN     NaN      NaN   NaN           2   \n5     NaN  ...     NaN     NaN     NaN     NaN      NaN   NaN           2   \n6     NaN  ...     NaN     NaN     NaN     NaN      NaN   NaN           2   \n7     NaN  ...     NaN     NaN     NaN     NaN      NaN   NaN           2   \n8     NaN  ...     NaN     NaN     NaN     NaN      NaN   NaN           2   \n9     NaN  ...     NaN     NaN     NaN     NaN      NaN   NaN           2   \n\n  Diploma2    Weging  ID  \n0        1  1.400395   1  \n1        2  0.720534   2  \n2        2  0.716512   3  \n3        1  1.374635   4  \n4        2  0.689156   5  \n5        2  0.689156   6  \n6        2  0.689156   7  \n7        2  0.689156   8  \n8        2  0.689156   9  \n9        2  0.689156  10  \n\n[10 rows x 636 columns]",
      "text/html": "<div>\n<style scoped>\n    .dataframe tbody tr th:only-of-type {\n        vertical-align: middle;\n    }\n\n    .dataframe tbody tr th {\n        vertical-align: top;\n    }\n\n    .dataframe thead th {\n        text-align: right;\n    }\n</style>\n<table border=\"1\" class=\"dataframe\">\n  <thead>\n    <tr style=\"text-align: right;\">\n      <th></th>\n      <th>cntry</th>\n      <th>ans_id</th>\n      <th>V001</th>\n      <th>V002</th>\n      <th>V002bea</th>\n      <th>V002beb</th>\n      <th>V002at</th>\n      <th>V002de</th>\n      <th>V002es</th>\n      <th>V002it</th>\n      <th>...</th>\n      <th>V058_6</th>\n      <th>V058_7</th>\n      <th>V058_8</th>\n      <th>V058_9</th>\n      <th>V058_10</th>\n      <th>V059</th>\n      <th>Leeftijd3N</th>\n      <th>Diploma2</th>\n      <th>Weging</th>\n      <th>ID</th>\n    </tr>\n  </thead>\n  <tbody>\n    <tr>\n      <th>0</th>\n      <td>4</td>\n      <td>100</td>\n      <td>2</td>\n      <td>62</td>\n      <td>NaN</td>\n      <td>NaN</td>\n      <td>NaN</td>\n      <td>NaN</td>\n      <td>7.0</td>\n      <td>NaN</td>\n      <td>...</td>\n      <td>NaN</td>\n      <td>NaN</td>\n      <td>NaN</td>\n      <td>NaN</td>\n      <td>NaN</td>\n      <td>NaN</td>\n      <td>3</td>\n      <td>1</td>\n      <td>1.400395</td>\n      <td>1</td>\n    </tr>\n    <tr>\n      <th>1</th>\n      <td>4</td>\n      <td>233</td>\n      <td>2</td>\n      <td>43</td>\n      <td>NaN</td>\n      <td>NaN</td>\n      <td>NaN</td>\n      <td>NaN</td>\n      <td>14.0</td>\n      <td>NaN</td>\n      <td>...</td>\n      <td>NaN</td>\n      <td>NaN</td>\n      <td>NaN</td>\n      <td>NaN</td>\n      <td>NaN</td>\n      <td>NaN</td>\n      <td>2</td>\n      <td>2</td>\n      <td>0.720534</td>\n      <td>2</td>\n    </tr>\n    <tr>\n      <th>2</th>\n      <td>4</td>\n      <td>373</td>\n      <td>2</td>\n      <td>34</td>\n      <td>NaN</td>\n      <td>NaN</td>\n      <td>NaN</td>\n      <td>NaN</td>\n      <td>17.0</td>\n      <td>NaN</td>\n      <td>...</td>\n      <td>NaN</td>\n      <td>NaN</td>\n      <td>NaN</td>\n      <td>NaN</td>\n      <td>NaN</td>\n      <td>NaN</td>\n      <td>1</td>\n      <td>2</td>\n      <td>0.716512</td>\n      <td>3</td>\n    </tr>\n    <tr>\n      <th>3</th>\n      <td>4</td>\n      <td>405</td>\n      <td>2</td>\n      <td>53</td>\n      <td>NaN</td>\n      <td>NaN</td>\n      <td>NaN</td>\n      <td>NaN</td>\n      <td>14.0</td>\n      <td>NaN</td>\n      <td>...</td>\n      <td>NaN</td>\n      <td>NaN</td>\n      <td>NaN</td>\n      <td>NaN</td>\n      <td>NaN</td>\n      <td>NaN</td>\n      <td>2</td>\n      <td>1</td>\n      <td>1.374635</td>\n      <td>4</td>\n    </tr>\n    <tr>\n      <th>4</th>\n      <td>4</td>\n      <td>462</td>\n      <td>1</td>\n      <td>40</td>\n      <td>NaN</td>\n      <td>NaN</td>\n      <td>NaN</td>\n      <td>NaN</td>\n      <td>7.0</td>\n      <td>NaN</td>\n      <td>...</td>\n      <td>NaN</td>\n      <td>NaN</td>\n      <td>NaN</td>\n      <td>NaN</td>\n      <td>NaN</td>\n      <td>NaN</td>\n      <td>2</td>\n      <td>2</td>\n      <td>0.689156</td>\n      <td>5</td>\n    </tr>\n    <tr>\n      <th>5</th>\n      <td>4</td>\n      <td>476</td>\n      <td>1</td>\n      <td>40</td>\n      <td>NaN</td>\n      <td>NaN</td>\n      <td>NaN</td>\n      <td>NaN</td>\n      <td>7.0</td>\n      <td>NaN</td>\n      <td>...</td>\n      <td>NaN</td>\n      <td>NaN</td>\n      <td>NaN</td>\n      <td>NaN</td>\n      <td>NaN</td>\n      <td>NaN</td>\n      <td>2</td>\n      <td>2</td>\n      <td>0.689156</td>\n      <td>6</td>\n    </tr>\n    <tr>\n      <th>6</th>\n      <td>4</td>\n      <td>501</td>\n      <td>1</td>\n      <td>40</td>\n      <td>NaN</td>\n      <td>NaN</td>\n      <td>NaN</td>\n      <td>NaN</td>\n      <td>7.0</td>\n      <td>NaN</td>\n      <td>...</td>\n      <td>NaN</td>\n      <td>NaN</td>\n      <td>NaN</td>\n      <td>NaN</td>\n      <td>NaN</td>\n      <td>NaN</td>\n      <td>2</td>\n      <td>2</td>\n      <td>0.689156</td>\n      <td>7</td>\n    </tr>\n    <tr>\n      <th>7</th>\n      <td>4</td>\n      <td>546</td>\n      <td>1</td>\n      <td>40</td>\n      <td>NaN</td>\n      <td>NaN</td>\n      <td>NaN</td>\n      <td>NaN</td>\n      <td>7.0</td>\n      <td>NaN</td>\n      <td>...</td>\n      <td>NaN</td>\n      <td>NaN</td>\n      <td>NaN</td>\n      <td>NaN</td>\n      <td>NaN</td>\n      <td>NaN</td>\n      <td>2</td>\n      <td>2</td>\n      <td>0.689156</td>\n      <td>8</td>\n    </tr>\n    <tr>\n      <th>8</th>\n      <td>4</td>\n      <td>557</td>\n      <td>1</td>\n      <td>40</td>\n      <td>NaN</td>\n      <td>NaN</td>\n      <td>NaN</td>\n      <td>NaN</td>\n      <td>7.0</td>\n      <td>NaN</td>\n      <td>...</td>\n      <td>NaN</td>\n      <td>NaN</td>\n      <td>NaN</td>\n      <td>NaN</td>\n      <td>NaN</td>\n      <td>NaN</td>\n      <td>2</td>\n      <td>2</td>\n      <td>0.689156</td>\n      <td>9</td>\n    </tr>\n    <tr>\n      <th>9</th>\n      <td>4</td>\n      <td>570</td>\n      <td>1</td>\n      <td>40</td>\n      <td>NaN</td>\n      <td>NaN</td>\n      <td>NaN</td>\n      <td>NaN</td>\n      <td>7.0</td>\n      <td>NaN</td>\n      <td>...</td>\n      <td>NaN</td>\n      <td>NaN</td>\n      <td>NaN</td>\n      <td>NaN</td>\n      <td>NaN</td>\n      <td>NaN</td>\n      <td>2</td>\n      <td>2</td>\n      <td>0.689156</td>\n      <td>10</td>\n    </tr>\n  </tbody>\n</table>\n<p>10 rows × 636 columns</p>\n</div>"
     },
     "execution_count": 77,
     "metadata": {},
     "output_type": "execute_result"
    }
   ],
   "source": [
    "# check format\n",
    "data.head(10)"
   ]
  },
  {
   "cell_type": "code",
   "execution_count": 43,
   "outputs": [
    {
     "data": {
      "text/plain": "V001\n2    6991\n1    6654\nName: count, dtype: int64"
     },
     "execution_count": 43,
     "metadata": {},
     "output_type": "execute_result"
    }
   ],
   "source": [],
   "metadata": {
    "collapsed": false
   }
  },
  {
   "cell_type": "code",
   "execution_count": 76,
   "outputs": [
    {
     "data": {
      "text/plain": "Index(['cntry', 'ans_id', 'V001', 'V002', 'V002bea', 'V002beb', 'V002at',\n       'V002de', 'V002es', 'V002it',\n       ...\n       'V058_6', 'V058_7', 'V058_8', 'V058_9', 'V058_10', 'V059', 'Leeftijd3N',\n       'Diploma2', 'Weging', 'ID'],\n      dtype='object', length=636)"
     },
     "execution_count": 76,
     "metadata": {},
     "output_type": "execute_result"
    }
   ],
   "source": [
    "data.keys()"
   ],
   "metadata": {
    "collapsed": false
   }
  },
  {
   "cell_type": "markdown",
   "source": [
    "## Data cleaning"
   ],
   "metadata": {
    "collapsed": false
   }
  },
  {
   "cell_type": "code",
   "execution_count": 23,
   "outputs": [],
   "source": [
    "# filter only data from european countries\n",
    "# Using loc to filter\n",
    "europe_df = data.loc[data['cntry'].isin([1,2,3,4,5,6,7])]"
   ],
   "metadata": {
    "collapsed": false
   }
  },
  {
   "cell_type": "code",
   "execution_count": 25,
   "outputs": [],
   "source": [
    "# keep only the columns we use for analysis\n",
    "# 1.1. socidemographic data + V040, V041s)\n",
    "v009_i = [\"V009_\" + str(i) for i in range(1, 10)]\n",
    "v010s = [\"V010\" + str(country) for country in [\"be\",\"at\",\"de\",\"es\",\"it\",\"hu\",\"se\"]]\n",
    "v011s = [\"V011\" + str(country) for country in [\"be\",\"at\",\"de\",\"es\",\"it\",\"hu\",\"se\"]]\n",
    "v041s = [\"V041_\" + str(i) for i in range(1, 7)]\n",
    "columns_to_keep = [\"ID\",\"cntry\"] + [\"V\" + str(i).zfill(3) for i in range(1,9)] + v009_i + v010s + v011s + [\"V012\",\"V013\",\"V020\",\"V021\",\"V022\",\"V040\"] + v041s\n",
    "columns_to_keep\n",
    "europe_df = europe_df[columns_to_keep]"
   ],
   "metadata": {
    "collapsed": false
   }
  },
  {
   "cell_type": "code",
   "execution_count": 26,
   "outputs": [
    {
     "data": {
      "text/plain": "Index(['cntry', 'V001', 'V002', 'V003', 'V004', 'V005', 'V006', 'V007', 'V008',\n       'V009_1', 'V009_2', 'V009_3', 'V009_4', 'V009_5', 'V009_6', 'V009_7',\n       'V009_8', 'V009_9', 'V010be', 'V010at', 'V010de', 'V010es', 'V010it',\n       'V010hu', 'V010se', 'V011be', 'V011at', 'V011de', 'V011es', 'V011it',\n       'V011hu', 'V011se', 'V012', 'V013', 'V020', 'V021', 'V022', 'V040',\n       'V041_1', 'V041_2', 'V041_3', 'V041_4', 'V041_5', 'V041_6'],\n      dtype='object')"
     },
     "execution_count": 26,
     "metadata": {},
     "output_type": "execute_result"
    }
   ],
   "source": [
    "europe_df.keys()"
   ],
   "metadata": {
    "collapsed": false
   }
  },
  {
   "cell_type": "code",
   "execution_count": 31,
   "metadata": {},
   "outputs": [],
   "source": [
    "# rename column to make them more legible\n",
    "europe_df = europe_df.rename(columns = {'cntry' : 'Country',\n",
    "                          'V001' : 'Gender',\n",
    "                          'V002' : 'Age',\n",
    "                          'V003' : 'MaritalSt',\n",
    "                          'V006' : 'Parents',\n",
    "                          'V007' : 'OneParent',\n",
    "                          'V008' : 'BothParents',\n",
    "                        'V009_1' : 'FullTime',\n",
    "                        'V009_2' : 'PartTime',\n",
    "                        'V009_3' : 'Disabled',\n",
    "                        'V009_4' : 'Student',\n",
    "                        'V009_5' : 'Houseman',\n",
    "                        'V009_6' : 'Unemployed',\n",
    "                        'V009_7' : 'Retired',\n",
    "                        'V009_8' : 'Military',\n",
    "                        'V009_9' : 'Other',\n",
    "                          'V012' : 'EndsMeet',\n",
    "                          'V013' : 'PoliAff',\n",
    "                          'V020' : 'Religion',\n",
    "                          'V021' : 'ReligionImp',\n",
    "                          'V022' : 'ResidenceType',\n",
    "                          'V040' : 'FeelingThermometer',\n",
    "                        'V041_1' : 'Anger',\n",
    "                        'V041_2' : 'Fear',\n",
    "                        'V041_3' : 'Hope',\n",
    "                        'V041_4' : 'Sympathy',\n",
    "                        'V041_5' : 'Disgust',\n",
    "                        'V041_6' : 'Happiness'})"
   ]
  },
  {
   "cell_type": "code",
   "execution_count": 37,
   "metadata": {},
   "outputs": [
    {
     "data": {
      "text/plain": "Index(['Age', 'V004', 'V005', 'Parents', 'OneParent', 'BothParents',\n       'FullTime', 'PartTime', 'Disabled', 'Student', 'Houseman', 'Unemployed',\n       'Retired', 'Military', 'Other', 'V010be', 'V010at', 'V010de', 'V010es',\n       'V010it', 'V010hu', 'V010se', 'V011be', 'V011at', 'V011de', 'V011es',\n       'V011it', 'V011hu', 'V011se', 'EndsMeet', 'PoliAff', 'Religion',\n       'Religion', 'ResidenceType', 'FeelingThermometer', 'Anger', 'Fear',\n       'Hope', 'Sympathy', 'Disgust', 'Happiness', 'Country_1', 'Country_2',\n       'Country_3', 'Country_4', 'Country_5', 'Country_6', 'Country_7',\n       'Gender_1', 'Gender_2', 'MaritalSt_1', 'MaritalSt_2', 'MaritalSt_3',\n       'MaritalSt_4', 'MaritalSt_5'],\n      dtype='object')"
     },
     "execution_count": 37,
     "metadata": {},
     "output_type": "execute_result"
    }
   ],
   "source": [
    "europe_df.keys()"
   ]
  },
  {
   "cell_type": "code",
   "execution_count": 33,
   "outputs": [],
   "source": [
    "# one hot encoding for nominal variables\n",
    "# We use pandas get_dummies to perform one-hot encoding\n",
    "europe_df = pd.get_dummies(europe_df, columns=['Country','Gender','MaritalSt'])"
   ],
   "metadata": {
    "collapsed": false
   }
  },
  {
   "cell_type": "code",
   "execution_count": 36,
   "outputs": [
    {
     "ename": "KeyError",
     "evalue": "'Gender'",
     "output_type": "error",
     "traceback": [
      "\u001B[0;31m---------------------------------------------------------------------------\u001B[0m",
      "\u001B[0;31mKeyError\u001B[0m                                  Traceback (most recent call last)",
      "File \u001B[0;32m~/miniconda3/envs/deep_rl/lib/python3.10/site-packages/pandas/core/indexes/base.py:3652\u001B[0m, in \u001B[0;36mIndex.get_loc\u001B[0;34m(self, key)\u001B[0m\n\u001B[1;32m   3651\u001B[0m \u001B[38;5;28;01mtry\u001B[39;00m:\n\u001B[0;32m-> 3652\u001B[0m     \u001B[38;5;28;01mreturn\u001B[39;00m \u001B[38;5;28;43mself\u001B[39;49m\u001B[38;5;241;43m.\u001B[39;49m\u001B[43m_engine\u001B[49m\u001B[38;5;241;43m.\u001B[39;49m\u001B[43mget_loc\u001B[49m\u001B[43m(\u001B[49m\u001B[43mcasted_key\u001B[49m\u001B[43m)\u001B[49m\n\u001B[1;32m   3653\u001B[0m \u001B[38;5;28;01mexcept\u001B[39;00m \u001B[38;5;167;01mKeyError\u001B[39;00m \u001B[38;5;28;01mas\u001B[39;00m err:\n",
      "File \u001B[0;32m~/miniconda3/envs/deep_rl/lib/python3.10/site-packages/pandas/_libs/index.pyx:147\u001B[0m, in \u001B[0;36mpandas._libs.index.IndexEngine.get_loc\u001B[0;34m()\u001B[0m\n",
      "File \u001B[0;32m~/miniconda3/envs/deep_rl/lib/python3.10/site-packages/pandas/_libs/index.pyx:171\u001B[0m, in \u001B[0;36mpandas._libs.index.IndexEngine.get_loc\u001B[0;34m()\u001B[0m\n",
      "File \u001B[0;32m~/miniconda3/envs/deep_rl/lib/python3.10/site-packages/pandas/_libs/index.pyx:214\u001B[0m, in \u001B[0;36mpandas._libs.index.IndexEngine._get_loc_duplicates\u001B[0;34m()\u001B[0m\n",
      "File \u001B[0;32m~/miniconda3/envs/deep_rl/lib/python3.10/site-packages/pandas/_libs/index.pyx:222\u001B[0m, in \u001B[0;36mpandas._libs.index.IndexEngine._maybe_get_bool_indexer\u001B[0;34m()\u001B[0m\n",
      "File \u001B[0;32m~/miniconda3/envs/deep_rl/lib/python3.10/site-packages/pandas/_libs/index.pyx:114\u001B[0m, in \u001B[0;36mpandas._libs.index._unpack_bool_indexer\u001B[0;34m()\u001B[0m\n",
      "\u001B[0;31mKeyError\u001B[0m: 'Gender'",
      "\nThe above exception was the direct cause of the following exception:\n",
      "\u001B[0;31mKeyError\u001B[0m                                  Traceback (most recent call last)",
      "Cell \u001B[0;32mIn[36], line 1\u001B[0m\n\u001B[0;32m----> 1\u001B[0m \u001B[43meurope_df\u001B[49m\u001B[43m[\u001B[49m\u001B[38;5;124;43m'\u001B[39;49m\u001B[38;5;124;43mGender\u001B[39;49m\u001B[38;5;124;43m'\u001B[39;49m\u001B[43m]\u001B[49m\u001B[38;5;241m.\u001B[39mvalue_counts()\n",
      "File \u001B[0;32m~/miniconda3/envs/deep_rl/lib/python3.10/site-packages/pandas/core/frame.py:3760\u001B[0m, in \u001B[0;36mDataFrame.__getitem__\u001B[0;34m(self, key)\u001B[0m\n\u001B[1;32m   3758\u001B[0m \u001B[38;5;28;01mif\u001B[39;00m \u001B[38;5;28mself\u001B[39m\u001B[38;5;241m.\u001B[39mcolumns\u001B[38;5;241m.\u001B[39mnlevels \u001B[38;5;241m>\u001B[39m \u001B[38;5;241m1\u001B[39m:\n\u001B[1;32m   3759\u001B[0m     \u001B[38;5;28;01mreturn\u001B[39;00m \u001B[38;5;28mself\u001B[39m\u001B[38;5;241m.\u001B[39m_getitem_multilevel(key)\n\u001B[0;32m-> 3760\u001B[0m indexer \u001B[38;5;241m=\u001B[39m \u001B[38;5;28;43mself\u001B[39;49m\u001B[38;5;241;43m.\u001B[39;49m\u001B[43mcolumns\u001B[49m\u001B[38;5;241;43m.\u001B[39;49m\u001B[43mget_loc\u001B[49m\u001B[43m(\u001B[49m\u001B[43mkey\u001B[49m\u001B[43m)\u001B[49m\n\u001B[1;32m   3761\u001B[0m \u001B[38;5;28;01mif\u001B[39;00m is_integer(indexer):\n\u001B[1;32m   3762\u001B[0m     indexer \u001B[38;5;241m=\u001B[39m [indexer]\n",
      "File \u001B[0;32m~/miniconda3/envs/deep_rl/lib/python3.10/site-packages/pandas/core/indexes/base.py:3654\u001B[0m, in \u001B[0;36mIndex.get_loc\u001B[0;34m(self, key)\u001B[0m\n\u001B[1;32m   3652\u001B[0m     \u001B[38;5;28;01mreturn\u001B[39;00m \u001B[38;5;28mself\u001B[39m\u001B[38;5;241m.\u001B[39m_engine\u001B[38;5;241m.\u001B[39mget_loc(casted_key)\n\u001B[1;32m   3653\u001B[0m \u001B[38;5;28;01mexcept\u001B[39;00m \u001B[38;5;167;01mKeyError\u001B[39;00m \u001B[38;5;28;01mas\u001B[39;00m err:\n\u001B[0;32m-> 3654\u001B[0m     \u001B[38;5;28;01mraise\u001B[39;00m \u001B[38;5;167;01mKeyError\u001B[39;00m(key) \u001B[38;5;28;01mfrom\u001B[39;00m \u001B[38;5;21;01merr\u001B[39;00m\n\u001B[1;32m   3655\u001B[0m \u001B[38;5;28;01mexcept\u001B[39;00m \u001B[38;5;167;01mTypeError\u001B[39;00m:\n\u001B[1;32m   3656\u001B[0m     \u001B[38;5;66;03m# If we have a listlike key, _check_indexing_error will raise\u001B[39;00m\n\u001B[1;32m   3657\u001B[0m     \u001B[38;5;66;03m#  InvalidIndexError. Otherwise we fall through and re-raise\u001B[39;00m\n\u001B[1;32m   3658\u001B[0m     \u001B[38;5;66;03m#  the TypeError.\u001B[39;00m\n\u001B[1;32m   3659\u001B[0m     \u001B[38;5;28mself\u001B[39m\u001B[38;5;241m.\u001B[39m_check_indexing_error(key)\n",
      "\u001B[0;31mKeyError\u001B[0m: 'Gender'"
     ]
    }
   ],
   "source": [],
   "metadata": {
    "collapsed": false
   }
  },
  {
   "cell_type": "code",
   "execution_count": 34,
   "outputs": [
    {
     "data": {
      "text/plain": "Index(['Age', 'V004', 'V005', 'Parents', 'OneParent', 'BothParents',\n       'FullTime', 'PartTime', 'Disabled', 'Student', 'Houseman', 'Unemployed',\n       'Retired', 'Military', 'Other', 'V010be', 'V010at', 'V010de', 'V010es',\n       'V010it', 'V010hu', 'V010se', 'V011be', 'V011at', 'V011de', 'V011es',\n       'V011it', 'V011hu', 'V011se', 'EndsMeet', 'PoliAff', 'Religion',\n       'Religion', 'ResidenceType', 'FeelingThermometer', 'Anger', 'Fear',\n       'Hope', 'Sympathy', 'Disgust', 'Happiness', 'Country_1', 'Country_2',\n       'Country_3', 'Country_4', 'Country_5', 'Country_6', 'Country_7',\n       'Gender_1', 'Gender_2', 'MaritalSt_1', 'MaritalSt_2', 'MaritalSt_3',\n       'MaritalSt_4', 'MaritalSt_5'],\n      dtype='object')"
     },
     "execution_count": 34,
     "metadata": {},
     "output_type": "execute_result"
    }
   ],
   "source": [
    "# should I rename the one hot encoded ones for gender, country, etc.?\n",
    "europe_df.keys()"
   ],
   "metadata": {
    "collapsed": false
   }
  },
  {
   "cell_type": "markdown",
   "source": [
    "## Where were you born?"
   ],
   "metadata": {
    "collapsed": false
   }
  },
  {
   "cell_type": "code",
   "execution_count": 45,
   "outputs": [
    {
     "data": {
      "text/plain": "V004\n1.0    9817\n2.0     782\nName: count, dtype: int64"
     },
     "execution_count": 45,
     "metadata": {},
     "output_type": "execute_result"
    }
   ],
   "source": [
    "# where were you born?\n",
    "# merge columns V004 and V005 into a new column. How? no unique ID\n",
    "europe_df.V004.value_counts()"
   ],
   "metadata": {
    "collapsed": false
   }
  },
  {
   "cell_type": "code",
   "execution_count": 47,
   "outputs": [
    {
     "data": {
      "text/plain": "V005\n99999.0    9817\n1.0         422\n2.0         357\n3.0           3\nName: count, dtype: int64"
     },
     "execution_count": 47,
     "metadata": {},
     "output_type": "execute_result"
    }
   ],
   "source": [
    "europe_df.V005.value_counts()"
   ],
   "metadata": {
    "collapsed": false
   }
  },
  {
   "cell_type": "markdown",
   "source": [
    "### Education:\n",
    "Unify education column across all countries.\n",
    "5 groups:\n",
    "1. no schooling\n",
    "2. primary\n",
    "3. secondary\n",
    "4. training and education in a specific trade or profession)\n",
    "5. higher education\n",
    "6. don’t know"
   ],
   "metadata": {
    "collapsed": false
   }
  },
  {
   "cell_type": "code",
   "execution_count": 55,
   "outputs": [],
   "source": [
    "# unify education column across all countries\n",
    "# 5 groups 1. no schooling 2. primary 3.secondary 4. training and education in a specific trade or profession) 5. higher education 6. don’t know\n",
    "#1. no schooling already matches across all country columns\n",
    "# Belgium:\n",
    "europe_df.V010be.replace([2,3], 2, inplace=True) #primary\n",
    "europe_df.V010be.replace([4,5,9,10], 3, inplace=True) #secondary\n",
    "europe_df.V010be.replace([6,7,8,11], 4, inplace=True) #job training\n",
    "europe_df.V010be.replace([12,13,14,15,16,17,18], 5, inplace=True) # higher education\n",
    "europe_df.V010be.replace(19, 6, inplace=True) # dont know"
   ],
   "metadata": {
    "collapsed": false
   }
  },
  {
   "cell_type": "code",
   "execution_count": 56,
   "outputs": [
    {
     "data": {
      "text/plain": "V010be\n3.0    1205\n2.0     282\n1.0      10\n4.0       8\nName: count, dtype: int64"
     },
     "execution_count": 56,
     "metadata": {},
     "output_type": "execute_result"
    }
   ],
   "source": [
    "europe_df.V010be.value_counts()"
   ],
   "metadata": {
    "collapsed": false
   }
  },
  {
   "cell_type": "code",
   "execution_count": 57,
   "outputs": [],
   "source": [
    "# Austria primary matches\n",
    "europe_df.V010at.replace([3,4,5,8,10], 3, inplace=True) #secondary\n",
    "europe_df.V010at.replace([6,7,9,11], 4, inplace=True) #job training\n",
    "europe_df.V010at.replace([12,13,14,15,16,17,18], 5, inplace=True) # higher education\n",
    "europe_df.V010at.replace(19, 6, inplace=True) # dont know"
   ],
   "metadata": {
    "collapsed": false
   }
  },
  {
   "cell_type": "code",
   "execution_count": 59,
   "outputs": [
    {
     "data": {
      "text/plain": "V010at\n4.0    745\n3.0    434\n5.0    336\n2.0      3\n6.0      1\n1.0      1\nName: count, dtype: int64"
     },
     "execution_count": 59,
     "metadata": {},
     "output_type": "execute_result"
    }
   ],
   "source": [
    "europe_df.V010at.value_counts()"
   ],
   "metadata": {
    "collapsed": false
   }
  },
  {
   "cell_type": "code",
   "execution_count": 61,
   "outputs": [],
   "source": [
    "# Germany primary matches\n",
    "europe_df.V010de.replace([3,4,5,6], 3, inplace=True) #secondary\n",
    "europe_df.V010de.replace(7, 4, inplace=True) #job training\n",
    "europe_df.V010de.replace([8,9], 5, inplace=True) # higher education\n",
    "europe_df.V010de.replace(10, 6, inplace=True) # dont know"
   ],
   "metadata": {
    "collapsed": false
   }
  },
  {
   "cell_type": "code",
   "execution_count": 63,
   "outputs": [
    {
     "data": {
      "text/plain": "V010de\n3.0    553\n5.0    506\n4.0    455\n1.0      4\n2.0      2\n6.0      1\nName: count, dtype: int64"
     },
     "execution_count": 63,
     "metadata": {},
     "output_type": "execute_result"
    }
   ],
   "source": [
    "europe_df.V010de.value_counts()"
   ],
   "metadata": {
    "collapsed": false
   }
  },
  {
   "cell_type": "code",
   "execution_count": 64,
   "outputs": [],
   "source": [
    "# Spain:\n",
    "europe_df.V010es.replace([2,3,4,5,6,7], 2, inplace=True) #primary\n",
    "europe_df.V010es.replace([8,9,10,11,12], 3, inplace=True) #secondary\n",
    "europe_df.V010es.replace([13,14,15,16,17,18,19,20,21,22,23,24], 4, inplace=True) #job training\n",
    "europe_df.V010es.replace([25,26,27], 5, inplace=True) # higher education\n",
    "europe_df.V010es.replace(28, 6, inplace=True) # dont know"
   ],
   "metadata": {
    "collapsed": false
   }
  },
  {
   "cell_type": "code",
   "execution_count": 65,
   "outputs": [
    {
     "data": {
      "text/plain": "V010es\n5.0    635\n4.0    440\n3.0    345\n2.0     86\n6.0      6\nName: count, dtype: int64"
     },
     "execution_count": 65,
     "metadata": {},
     "output_type": "execute_result"
    }
   ],
   "source": [
    "europe_df.V010es.value_counts()"
   ],
   "metadata": {
    "collapsed": false
   }
  },
  {
   "cell_type": "code",
   "execution_count": 66,
   "outputs": [],
   "source": [
    "#Italy primary matches\n",
    "europe_df.V010it.replace([4,6,8,9], 3, inplace=True) #secondary\n",
    "europe_df.V010it.replace([3,5,7,10,11], 4, inplace=True) #job training\n",
    "europe_df.V010it.replace([12,13,14,15,16,17,18,19,20,21], 5, inplace=True) # higher education\n",
    "europe_df.V010it.replace(22, 6, inplace=True) # dont know"
   ],
   "metadata": {
    "collapsed": false
   }
  },
  {
   "cell_type": "code",
   "execution_count": 67,
   "outputs": [
    {
     "data": {
      "text/plain": "V010it\n4.0    967\n5.0    529\n2.0      9\n1.0      4\n6.0      1\nName: count, dtype: int64"
     },
     "execution_count": 67,
     "metadata": {},
     "output_type": "execute_result"
    }
   ],
   "source": [
    "europe_df.V010it.value_counts()"
   ],
   "metadata": {
    "collapsed": false
   }
  },
  {
   "cell_type": "code",
   "execution_count": 68,
   "outputs": [],
   "source": [
    "# Hungary:\n",
    "europe_df.V010hu.replace([2,3], 2, inplace=True) #primary\n",
    "europe_df.V010hu.replace([6,7], 3, inplace=True) #secondary\n",
    "europe_df.V010hu.replace([4,5,8,9], 4, inplace=True) #job training\n",
    "europe_df.V010hu.replace([10,11,12,13,14], 5, inplace=True) # higher education\n",
    "europe_df.V010hu.replace(15, 6, inplace=True) # dont know"
   ],
   "metadata": {
    "collapsed": false
   }
  },
  {
   "cell_type": "code",
   "execution_count": 69,
   "outputs": [
    {
     "data": {
      "text/plain": "V010hu\n5.0    524\n4.0    500\n3.0    439\n2.0     49\n6.0      2\nName: count, dtype: int64"
     },
     "execution_count": 69,
     "metadata": {},
     "output_type": "execute_result"
    }
   ],
   "source": [
    "europe_df.V010hu.value_counts()"
   ],
   "metadata": {
    "collapsed": false
   }
  },
  {
   "cell_type": "code",
   "execution_count": 70,
   "outputs": [],
   "source": [
    "# Sweden:\n",
    "europe_df.V010se.replace([2,3], 2, inplace=True) #primary\n",
    "europe_df.V010se.replace([5,6,8], 3, inplace=True) #secondary\n",
    "europe_df.V010se.replace([4,7,10,12], 4, inplace=True) #job training\n",
    "europe_df.V010se.replace([9,11,13,14,15,16,17,18,19,20], 5, inplace=True) # higher education\n",
    "europe_df.V010se.replace(21, 6, inplace=True) # dont know"
   ],
   "metadata": {
    "collapsed": false
   }
  },
  {
   "cell_type": "code",
   "execution_count": 71,
   "outputs": [
    {
     "data": {
      "text/plain": "V010se\n5.0    650\n4.0    398\n3.0    358\n2.0     93\n6.0     12\n1.0      6\nName: count, dtype: int64"
     },
     "execution_count": 71,
     "metadata": {},
     "output_type": "execute_result"
    }
   ],
   "source": [
    "europe_df.V010se.value_counts()"
   ],
   "metadata": {
    "collapsed": false
   }
  },
  {
   "cell_type": "markdown",
   "source": [
    "## Income\n",
    "We are only interested in the income brackets (Values 1 - 10) I am not sure if this is even necessary. They seem to match pretty well. Only Spain is weird because they have one less."
   ],
   "metadata": {
    "collapsed": false
   }
  },
  {
   "cell_type": "code",
   "execution_count": 72,
   "outputs": [
    {
     "data": {
      "text/plain": "V011es\n3.0     205\n5.0     193\n6.0     180\n8.0     178\n4.0     176\n7.0     161\n2.0     139\n1.0      96\n9.0      96\n10.0     41\n11.0     29\n12.0     18\nName: count, dtype: int64"
     },
     "execution_count": 72,
     "metadata": {},
     "output_type": "execute_result"
    }
   ],
   "source": [
    "# drop columns we don't need.\n",
    "europe_df.V011es.value_counts()"
   ],
   "metadata": {
    "collapsed": false
   }
  },
  {
   "cell_type": "markdown",
   "source": [
    "## Sentiment columns\n",
    "Group into negative and positive feelings towards immigrants"
   ],
   "metadata": {
    "collapsed": false
   }
  },
  {
   "cell_type": "code",
   "execution_count": 79,
   "outputs": [],
   "source": [
    "europe_df['NegativeEmo'] = europe_df['Anger'] + europe_df['Fear'] + europe_df['Disgust']\n",
    "europe_df['PositiveEmo'] = europe_df['Hope'] + europe_df['Sympathy'] + europe_df['Happiness']\n",
    "# Add a binary column based on the overall sentiment\n",
    "europe_df['SentimentBinary'] = np.where(europe_df['NegativeEmo'] > europe_df['PositiveEmo'], 0, 1)\n",
    "# 0 overall negative sentiment\n",
    "# 1 overall positive sentiment"
   ],
   "metadata": {
    "collapsed": false
   }
  },
  {
   "cell_type": "code",
   "execution_count": 83,
   "outputs": [
    {
     "data": {
      "text/plain": "0        1\n1        1\n2        1\n3        1\n4        1\n        ..\n10594    0\n10595    0\n10596    1\n10597    0\n10598    1\nName: SentimentBinary, Length: 10599, dtype: int64"
     },
     "execution_count": 83,
     "metadata": {},
     "output_type": "execute_result"
    }
   ],
   "source": [
    "europe_df.SentimentBinary"
   ],
   "metadata": {
    "collapsed": false
   }
  },
  {
   "cell_type": "markdown",
   "metadata": {},
   "source": [
    "V041_1 = anger\n",
    "V041_2 = fear\n",
    "V041_5 = disgust\n",
    "\n",
    "V041_3 = hope\n",
    "V041_4 = sympathy\n",
    "V041_6 = happiness\n",
    "\n",
    "Negative_Sentiment = average or sum of (V041_1, V041_2, V041_5)\n",
    "\n",
    "Positive_Sentiment = average or sum of (V041_3, V041_4, V041_6)\n",
    "\n",
    "For binary label take whichever sentiment is higher \n",
    "\n",
    "We need to pick what vars we care about\n",
    "\n",
    "Can we keep ordinal vars? Just need to make sure they're following the same tred (ex. \"worst\" to \"best\")\n",
    "\n",
    "One-hot encoding for vars without ranking"
   ]
  },
  {
   "cell_type": "code",
   "execution_count": null,
   "outputs": [],
   "source": [],
   "metadata": {
    "collapsed": false
   }
  },
  {
   "cell_type": "markdown",
   "source": [
    "## Data cleaning"
   ],
   "metadata": {
    "collapsed": false
   }
  },
  {
   "cell_type": "markdown",
   "source": [
    "# 2. Data Exploration"
   ],
   "metadata": {
    "collapsed": false
   }
  },
  {
   "cell_type": "markdown",
   "source": [
    "# Analysis"
   ],
   "metadata": {
    "collapsed": false
   }
  },
  {
   "cell_type": "markdown",
   "source": [
    "lets add ## subheadings to make it easier to reference\n"
   ],
   "metadata": {
    "collapsed": false
   }
  },
  {
   "cell_type": "code",
   "execution_count": null,
   "outputs": [],
   "source": [],
   "metadata": {
    "collapsed": false
   }
  }
 ],
 "metadata": {
  "kernelspec": {
   "display_name": "Python 3",
   "language": "python",
   "name": "python3"
  },
  "language_info": {
   "codemirror_mode": {
    "name": "ipython",
    "version": 3
   },
   "file_extension": ".py",
   "mimetype": "text/x-python",
   "name": "python",
   "nbconvert_exporter": "python",
   "pygments_lexer": "ipython3",
   "version": "3.11.9"
  }
 },
 "nbformat": 4,
 "nbformat_minor": 2
}
