{
 "cells": [
  {
   "cell_type": "code",
   "execution_count": 99,
   "metadata": {},
   "outputs": [],
   "source": [
    "import pandas as pd\n",
    "import numpy as np"
   ]
  },
  {
   "cell_type": "markdown",
   "metadata": {
    "collapsed": false
   },
   "source": [
    "# 1. Data Preparation"
   ]
  },
  {
   "cell_type": "code",
   "execution_count": 100,
   "metadata": {},
   "outputs": [],
   "source": [
    "# load dataset\n",
    "data = pd.read_csv('data/Dataset_DeConinck_R.csv', encoding='latin-1')\n",
    "# Add an ID column\n",
    "data['ID'] = range(1, len(data) + 1)  # This will create IDs starting from 1"
   ]
  },
  {
   "cell_type": "code",
   "execution_count": 101,
   "metadata": {},
   "outputs": [
    {
     "data": {
      "text/html": [
       "<div>\n",
       "<style scoped>\n",
       "    .dataframe tbody tr th:only-of-type {\n",
       "        vertical-align: middle;\n",
       "    }\n",
       "\n",
       "    .dataframe tbody tr th {\n",
       "        vertical-align: top;\n",
       "    }\n",
       "\n",
       "    .dataframe thead th {\n",
       "        text-align: right;\n",
       "    }\n",
       "</style>\n",
       "<table border=\"1\" class=\"dataframe\">\n",
       "  <thead>\n",
       "    <tr style=\"text-align: right;\">\n",
       "      <th></th>\n",
       "      <th>cntry</th>\n",
       "      <th>ans_id</th>\n",
       "      <th>V001</th>\n",
       "      <th>V002</th>\n",
       "      <th>V002bea</th>\n",
       "      <th>V002beb</th>\n",
       "      <th>V002at</th>\n",
       "      <th>V002de</th>\n",
       "      <th>V002es</th>\n",
       "      <th>V002it</th>\n",
       "      <th>...</th>\n",
       "      <th>V058_6</th>\n",
       "      <th>V058_7</th>\n",
       "      <th>V058_8</th>\n",
       "      <th>V058_9</th>\n",
       "      <th>V058_10</th>\n",
       "      <th>V059</th>\n",
       "      <th>Leeftijd3N</th>\n",
       "      <th>Diploma2</th>\n",
       "      <th>Weging</th>\n",
       "      <th>ID</th>\n",
       "    </tr>\n",
       "  </thead>\n",
       "  <tbody>\n",
       "    <tr>\n",
       "      <th>0</th>\n",
       "      <td>4</td>\n",
       "      <td>100</td>\n",
       "      <td>2</td>\n",
       "      <td>62</td>\n",
       "      <td>NaN</td>\n",
       "      <td>NaN</td>\n",
       "      <td>NaN</td>\n",
       "      <td>NaN</td>\n",
       "      <td>7.0</td>\n",
       "      <td>NaN</td>\n",
       "      <td>...</td>\n",
       "      <td>NaN</td>\n",
       "      <td>NaN</td>\n",
       "      <td>NaN</td>\n",
       "      <td>NaN</td>\n",
       "      <td>NaN</td>\n",
       "      <td>NaN</td>\n",
       "      <td>3</td>\n",
       "      <td>1</td>\n",
       "      <td>1.400395</td>\n",
       "      <td>1</td>\n",
       "    </tr>\n",
       "    <tr>\n",
       "      <th>1</th>\n",
       "      <td>4</td>\n",
       "      <td>233</td>\n",
       "      <td>2</td>\n",
       "      <td>43</td>\n",
       "      <td>NaN</td>\n",
       "      <td>NaN</td>\n",
       "      <td>NaN</td>\n",
       "      <td>NaN</td>\n",
       "      <td>14.0</td>\n",
       "      <td>NaN</td>\n",
       "      <td>...</td>\n",
       "      <td>NaN</td>\n",
       "      <td>NaN</td>\n",
       "      <td>NaN</td>\n",
       "      <td>NaN</td>\n",
       "      <td>NaN</td>\n",
       "      <td>NaN</td>\n",
       "      <td>2</td>\n",
       "      <td>2</td>\n",
       "      <td>0.720534</td>\n",
       "      <td>2</td>\n",
       "    </tr>\n",
       "    <tr>\n",
       "      <th>2</th>\n",
       "      <td>4</td>\n",
       "      <td>373</td>\n",
       "      <td>2</td>\n",
       "      <td>34</td>\n",
       "      <td>NaN</td>\n",
       "      <td>NaN</td>\n",
       "      <td>NaN</td>\n",
       "      <td>NaN</td>\n",
       "      <td>17.0</td>\n",
       "      <td>NaN</td>\n",
       "      <td>...</td>\n",
       "      <td>NaN</td>\n",
       "      <td>NaN</td>\n",
       "      <td>NaN</td>\n",
       "      <td>NaN</td>\n",
       "      <td>NaN</td>\n",
       "      <td>NaN</td>\n",
       "      <td>1</td>\n",
       "      <td>2</td>\n",
       "      <td>0.716512</td>\n",
       "      <td>3</td>\n",
       "    </tr>\n",
       "    <tr>\n",
       "      <th>3</th>\n",
       "      <td>4</td>\n",
       "      <td>405</td>\n",
       "      <td>2</td>\n",
       "      <td>53</td>\n",
       "      <td>NaN</td>\n",
       "      <td>NaN</td>\n",
       "      <td>NaN</td>\n",
       "      <td>NaN</td>\n",
       "      <td>14.0</td>\n",
       "      <td>NaN</td>\n",
       "      <td>...</td>\n",
       "      <td>NaN</td>\n",
       "      <td>NaN</td>\n",
       "      <td>NaN</td>\n",
       "      <td>NaN</td>\n",
       "      <td>NaN</td>\n",
       "      <td>NaN</td>\n",
       "      <td>2</td>\n",
       "      <td>1</td>\n",
       "      <td>1.374635</td>\n",
       "      <td>4</td>\n",
       "    </tr>\n",
       "    <tr>\n",
       "      <th>4</th>\n",
       "      <td>4</td>\n",
       "      <td>462</td>\n",
       "      <td>1</td>\n",
       "      <td>40</td>\n",
       "      <td>NaN</td>\n",
       "      <td>NaN</td>\n",
       "      <td>NaN</td>\n",
       "      <td>NaN</td>\n",
       "      <td>7.0</td>\n",
       "      <td>NaN</td>\n",
       "      <td>...</td>\n",
       "      <td>NaN</td>\n",
       "      <td>NaN</td>\n",
       "      <td>NaN</td>\n",
       "      <td>NaN</td>\n",
       "      <td>NaN</td>\n",
       "      <td>NaN</td>\n",
       "      <td>2</td>\n",
       "      <td>2</td>\n",
       "      <td>0.689156</td>\n",
       "      <td>5</td>\n",
       "    </tr>\n",
       "    <tr>\n",
       "      <th>5</th>\n",
       "      <td>4</td>\n",
       "      <td>476</td>\n",
       "      <td>1</td>\n",
       "      <td>40</td>\n",
       "      <td>NaN</td>\n",
       "      <td>NaN</td>\n",
       "      <td>NaN</td>\n",
       "      <td>NaN</td>\n",
       "      <td>7.0</td>\n",
       "      <td>NaN</td>\n",
       "      <td>...</td>\n",
       "      <td>NaN</td>\n",
       "      <td>NaN</td>\n",
       "      <td>NaN</td>\n",
       "      <td>NaN</td>\n",
       "      <td>NaN</td>\n",
       "      <td>NaN</td>\n",
       "      <td>2</td>\n",
       "      <td>2</td>\n",
       "      <td>0.689156</td>\n",
       "      <td>6</td>\n",
       "    </tr>\n",
       "    <tr>\n",
       "      <th>6</th>\n",
       "      <td>4</td>\n",
       "      <td>501</td>\n",
       "      <td>1</td>\n",
       "      <td>40</td>\n",
       "      <td>NaN</td>\n",
       "      <td>NaN</td>\n",
       "      <td>NaN</td>\n",
       "      <td>NaN</td>\n",
       "      <td>7.0</td>\n",
       "      <td>NaN</td>\n",
       "      <td>...</td>\n",
       "      <td>NaN</td>\n",
       "      <td>NaN</td>\n",
       "      <td>NaN</td>\n",
       "      <td>NaN</td>\n",
       "      <td>NaN</td>\n",
       "      <td>NaN</td>\n",
       "      <td>2</td>\n",
       "      <td>2</td>\n",
       "      <td>0.689156</td>\n",
       "      <td>7</td>\n",
       "    </tr>\n",
       "    <tr>\n",
       "      <th>7</th>\n",
       "      <td>4</td>\n",
       "      <td>546</td>\n",
       "      <td>1</td>\n",
       "      <td>40</td>\n",
       "      <td>NaN</td>\n",
       "      <td>NaN</td>\n",
       "      <td>NaN</td>\n",
       "      <td>NaN</td>\n",
       "      <td>7.0</td>\n",
       "      <td>NaN</td>\n",
       "      <td>...</td>\n",
       "      <td>NaN</td>\n",
       "      <td>NaN</td>\n",
       "      <td>NaN</td>\n",
       "      <td>NaN</td>\n",
       "      <td>NaN</td>\n",
       "      <td>NaN</td>\n",
       "      <td>2</td>\n",
       "      <td>2</td>\n",
       "      <td>0.689156</td>\n",
       "      <td>8</td>\n",
       "    </tr>\n",
       "    <tr>\n",
       "      <th>8</th>\n",
       "      <td>4</td>\n",
       "      <td>557</td>\n",
       "      <td>1</td>\n",
       "      <td>40</td>\n",
       "      <td>NaN</td>\n",
       "      <td>NaN</td>\n",
       "      <td>NaN</td>\n",
       "      <td>NaN</td>\n",
       "      <td>7.0</td>\n",
       "      <td>NaN</td>\n",
       "      <td>...</td>\n",
       "      <td>NaN</td>\n",
       "      <td>NaN</td>\n",
       "      <td>NaN</td>\n",
       "      <td>NaN</td>\n",
       "      <td>NaN</td>\n",
       "      <td>NaN</td>\n",
       "      <td>2</td>\n",
       "      <td>2</td>\n",
       "      <td>0.689156</td>\n",
       "      <td>9</td>\n",
       "    </tr>\n",
       "    <tr>\n",
       "      <th>9</th>\n",
       "      <td>4</td>\n",
       "      <td>570</td>\n",
       "      <td>1</td>\n",
       "      <td>40</td>\n",
       "      <td>NaN</td>\n",
       "      <td>NaN</td>\n",
       "      <td>NaN</td>\n",
       "      <td>NaN</td>\n",
       "      <td>7.0</td>\n",
       "      <td>NaN</td>\n",
       "      <td>...</td>\n",
       "      <td>NaN</td>\n",
       "      <td>NaN</td>\n",
       "      <td>NaN</td>\n",
       "      <td>NaN</td>\n",
       "      <td>NaN</td>\n",
       "      <td>NaN</td>\n",
       "      <td>2</td>\n",
       "      <td>2</td>\n",
       "      <td>0.689156</td>\n",
       "      <td>10</td>\n",
       "    </tr>\n",
       "  </tbody>\n",
       "</table>\n",
       "<p>10 rows × 636 columns</p>\n",
       "</div>"
      ],
      "text/plain": [
       "   cntry  ans_id  V001  V002  V002bea  V002beb  V002at  V002de  V002es  \\\n",
       "0      4     100     2    62      NaN      NaN     NaN     NaN     7.0   \n",
       "1      4     233     2    43      NaN      NaN     NaN     NaN    14.0   \n",
       "2      4     373     2    34      NaN      NaN     NaN     NaN    17.0   \n",
       "3      4     405     2    53      NaN      NaN     NaN     NaN    14.0   \n",
       "4      4     462     1    40      NaN      NaN     NaN     NaN     7.0   \n",
       "5      4     476     1    40      NaN      NaN     NaN     NaN     7.0   \n",
       "6      4     501     1    40      NaN      NaN     NaN     NaN     7.0   \n",
       "7      4     546     1    40      NaN      NaN     NaN     NaN     7.0   \n",
       "8      4     557     1    40      NaN      NaN     NaN     NaN     7.0   \n",
       "9      4     570     1    40      NaN      NaN     NaN     NaN     7.0   \n",
       "\n",
       "   V002it  ...  V058_6  V058_7  V058_8  V058_9  V058_10  V059  Leeftijd3N  \\\n",
       "0     NaN  ...     NaN     NaN     NaN     NaN      NaN   NaN           3   \n",
       "1     NaN  ...     NaN     NaN     NaN     NaN      NaN   NaN           2   \n",
       "2     NaN  ...     NaN     NaN     NaN     NaN      NaN   NaN           1   \n",
       "3     NaN  ...     NaN     NaN     NaN     NaN      NaN   NaN           2   \n",
       "4     NaN  ...     NaN     NaN     NaN     NaN      NaN   NaN           2   \n",
       "5     NaN  ...     NaN     NaN     NaN     NaN      NaN   NaN           2   \n",
       "6     NaN  ...     NaN     NaN     NaN     NaN      NaN   NaN           2   \n",
       "7     NaN  ...     NaN     NaN     NaN     NaN      NaN   NaN           2   \n",
       "8     NaN  ...     NaN     NaN     NaN     NaN      NaN   NaN           2   \n",
       "9     NaN  ...     NaN     NaN     NaN     NaN      NaN   NaN           2   \n",
       "\n",
       "  Diploma2    Weging  ID  \n",
       "0        1  1.400395   1  \n",
       "1        2  0.720534   2  \n",
       "2        2  0.716512   3  \n",
       "3        1  1.374635   4  \n",
       "4        2  0.689156   5  \n",
       "5        2  0.689156   6  \n",
       "6        2  0.689156   7  \n",
       "7        2  0.689156   8  \n",
       "8        2  0.689156   9  \n",
       "9        2  0.689156  10  \n",
       "\n",
       "[10 rows x 636 columns]"
      ]
     },
     "execution_count": 101,
     "metadata": {},
     "output_type": "execute_result"
    }
   ],
   "source": [
    "# check format\n",
    "data.head(10)"
   ]
  },
  {
   "cell_type": "code",
   "execution_count": 102,
   "metadata": {
    "collapsed": false
   },
   "outputs": [
    {
     "data": {
      "text/plain": [
       "Index(['cntry', 'ans_id', 'V001', 'V002', 'V002bea', 'V002beb', 'V002at',\n",
       "       'V002de', 'V002es', 'V002it',\n",
       "       ...\n",
       "       'V058_6', 'V058_7', 'V058_8', 'V058_9', 'V058_10', 'V059', 'Leeftijd3N',\n",
       "       'Diploma2', 'Weging', 'ID'],\n",
       "      dtype='object', length=636)"
      ]
     },
     "execution_count": 102,
     "metadata": {},
     "output_type": "execute_result"
    }
   ],
   "source": [
    "data.keys()"
   ]
  },
  {
   "cell_type": "markdown",
   "metadata": {
    "collapsed": false
   },
   "source": [
    "## Data cleaning"
   ]
  },
  {
   "cell_type": "code",
   "execution_count": 103,
   "metadata": {
    "collapsed": false
   },
   "outputs": [],
   "source": [
    "# filter only data from european countries\n",
    "# Using loc to filter\n",
    "europe_df = data.loc[data['cntry'].isin([1,2,3,4,5,6,7])]"
   ]
  },
  {
   "cell_type": "code",
   "execution_count": 104,
   "metadata": {
    "collapsed": false
   },
   "outputs": [],
   "source": [
    "# keep only the columns we use for analysis\n",
    "# 1.1. socidemographic data + V040, V041s)\n",
    "v009_i = [\"V009_\" + str(i) for i in range(1, 10)]\n",
    "v010s = [\"V010\" + str(country) for country in [\"be\",\"at\",\"de\",\"es\",\"it\",\"hu\",\"se\"]]\n",
    "v011s = [\"V011\" + str(country) for country in [\"be\",\"at\",\"de\",\"es\",\"it\",\"hu\",\"se\"]]\n",
    "v041s = [\"V041_\" + str(i) for i in range(1, 7)]\n",
    "columns_to_keep = [\"ID\",\"cntry\"] + [\"V\" + str(i).zfill(3) for i in range(1,9)] + v009_i + v010s + v011s + [\"V012\",\"V013\",\"V020\",\"V021\",\"V022\",\"V040\"] + v041s\n",
    "columns_to_keep\n",
    "europe_df = europe_df[columns_to_keep]"
   ]
  },
  {
   "cell_type": "code",
   "execution_count": 105,
   "metadata": {
    "collapsed": false
   },
   "outputs": [
    {
     "data": {
      "text/plain": [
       "Index(['ID', 'cntry', 'V001', 'V002', 'V003', 'V004', 'V005', 'V006', 'V007',\n",
       "       'V008', 'V009_1', 'V009_2', 'V009_3', 'V009_4', 'V009_5', 'V009_6',\n",
       "       'V009_7', 'V009_8', 'V009_9', 'V010be', 'V010at', 'V010de', 'V010es',\n",
       "       'V010it', 'V010hu', 'V010se', 'V011be', 'V011at', 'V011de', 'V011es',\n",
       "       'V011it', 'V011hu', 'V011se', 'V012', 'V013', 'V020', 'V021', 'V022',\n",
       "       'V040', 'V041_1', 'V041_2', 'V041_3', 'V041_4', 'V041_5', 'V041_6'],\n",
       "      dtype='object')"
      ]
     },
     "execution_count": 105,
     "metadata": {},
     "output_type": "execute_result"
    }
   ],
   "source": [
    "europe_df.keys()"
   ]
  },
  {
   "cell_type": "code",
   "execution_count": 106,
   "metadata": {},
   "outputs": [],
   "source": [
    "# rename column to make them more legible\n",
    "europe_df = europe_df.rename(columns = {'cntry' : 'Country',\n",
    "                          'V001' : 'Gender',\n",
    "                          'V002' : 'Age',\n",
    "                          'V003' : 'MaritalSt',\n",
    "                          'V006' : 'Parents',\n",
    "                          'V007' : 'OneParent',\n",
    "                          'V008' : 'BothParents',\n",
    "                        'V009_1' : 'FullTime',\n",
    "                        'V009_2' : 'PartTime',\n",
    "                        'V009_3' : 'Disabled',\n",
    "                        'V009_4' : 'Student',\n",
    "                        'V009_5' : 'Houseman',\n",
    "                        'V009_6' : 'Unemployed',\n",
    "                        'V009_7' : 'Retired',\n",
    "                        'V009_8' : 'Military',\n",
    "                        'V009_9' : 'Other',\n",
    "                          'V012' : 'EndsMeet',\n",
    "                          'V013' : 'PoliAff',\n",
    "                          'V020' : 'Religion',\n",
    "                          'V021' : 'ReligionImp',\n",
    "                          'V022' : 'ResidenceType',\n",
    "                          'V040' : 'FeelingThermometer',\n",
    "                        'V041_1' : 'Anger',\n",
    "                        'V041_2' : 'Fear',\n",
    "                        'V041_3' : 'Hope',\n",
    "                        'V041_4' : 'Sympathy',\n",
    "                        'V041_5' : 'Disgust',\n",
    "                        'V041_6' : 'Happiness'})"
   ]
  },
  {
   "cell_type": "code",
   "execution_count": 107,
   "metadata": {},
   "outputs": [
    {
     "data": {
      "text/plain": [
       "Index(['ID', 'Country', 'Gender', 'Age', 'MaritalSt', 'V004', 'V005',\n",
       "       'Parents', 'OneParent', 'BothParents', 'FullTime', 'PartTime',\n",
       "       'Disabled', 'Student', 'Houseman', 'Unemployed', 'Retired', 'Military',\n",
       "       'Other', 'V010be', 'V010at', 'V010de', 'V010es', 'V010it', 'V010hu',\n",
       "       'V010se', 'V011be', 'V011at', 'V011de', 'V011es', 'V011it', 'V011hu',\n",
       "       'V011se', 'EndsMeet', 'PoliAff', 'Religion', 'ReligionImp',\n",
       "       'ResidenceType', 'FeelingThermometer', 'Anger', 'Fear', 'Hope',\n",
       "       'Sympathy', 'Disgust', 'Happiness'],\n",
       "      dtype='object')"
      ]
     },
     "execution_count": 107,
     "metadata": {},
     "output_type": "execute_result"
    }
   ],
   "source": [
    "europe_df.keys()"
   ]
  },
  {
   "cell_type": "code",
   "execution_count": 108,
   "metadata": {
    "collapsed": false
   },
   "outputs": [],
   "source": [
    "# one hot encoding for nominal variables\n",
    "# We use pandas get_dummies to perform one-hot encoding\n",
    "europe_df = pd.get_dummies(europe_df, columns=['Country','Gender','MaritalSt'])\n",
    "# Convert boolean columns to integers (0 or 1)\n",
    "# europe_df = europe_df.astype(int)"
   ]
  },
  {
   "cell_type": "code",
   "execution_count": 109,
   "metadata": {
    "collapsed": false
   },
   "outputs": [
    {
     "data": {
      "text/plain": [
       "Index(['ID', 'Age', 'V004', 'V005', 'Parents', 'OneParent', 'BothParents',\n",
       "       'FullTime', 'PartTime', 'Disabled', 'Student', 'Houseman', 'Unemployed',\n",
       "       'Retired', 'Military', 'Other', 'V010be', 'V010at', 'V010de', 'V010es',\n",
       "       'V010it', 'V010hu', 'V010se', 'V011be', 'V011at', 'V011de', 'V011es',\n",
       "       'V011it', 'V011hu', 'V011se', 'EndsMeet', 'PoliAff', 'Religion',\n",
       "       'ReligionImp', 'ResidenceType', 'FeelingThermometer', 'Anger', 'Fear',\n",
       "       'Hope', 'Sympathy', 'Disgust', 'Happiness', 'Country_1', 'Country_2',\n",
       "       'Country_3', 'Country_4', 'Country_5', 'Country_6', 'Country_7',\n",
       "       'Gender_1', 'Gender_2', 'MaritalSt_1', 'MaritalSt_2', 'MaritalSt_3',\n",
       "       'MaritalSt_4', 'MaritalSt_5'],\n",
       "      dtype='object')"
      ]
     },
     "execution_count": 109,
     "metadata": {},
     "output_type": "execute_result"
    }
   ],
   "source": [
    "# should I rename the one hot encoded ones for gender, country, etc.?\n",
    "# were there only 2 genders reported?\n",
    "europe_df.keys()"
   ]
  },
  {
   "cell_type": "markdown",
   "metadata": {
    "collapsed": false
   },
   "source": [
    "## Where were you born?"
   ]
  },
  {
   "cell_type": "code",
   "execution_count": 110,
   "metadata": {
    "collapsed": false
   },
   "outputs": [
    {
     "data": {
      "text/plain": [
       "V004\n",
       "1.0    9817\n",
       "2.0     782\n",
       "Name: count, dtype: int64"
      ]
     },
     "execution_count": 110,
     "metadata": {},
     "output_type": "execute_result"
    }
   ],
   "source": [
    "# where were you born?\n",
    "# merge columns V004 and V005 into a new column. How? no unique ID\n",
    "europe_df.V004.value_counts()"
   ]
  },
  {
   "cell_type": "code",
   "execution_count": 111,
   "metadata": {
    "collapsed": false
   },
   "outputs": [
    {
     "data": {
      "text/plain": [
       "V005\n",
       "99999.0    9817\n",
       "1.0         422\n",
       "2.0         357\n",
       "3.0           3\n",
       "Name: count, dtype: int64"
      ]
     },
     "execution_count": 111,
     "metadata": {},
     "output_type": "execute_result"
    }
   ],
   "source": [
    "europe_df.V005.value_counts()"
   ]
  },
  {
   "cell_type": "markdown",
   "metadata": {
    "collapsed": false
   },
   "source": [
    "### Education:\n",
    "Unify education column across all countries.\n",
    "5 groups:\n",
    "1. no schooling\n",
    "2. primary\n",
    "3. secondary\n",
    "4. training and education in a specific trade or profession)\n",
    "5. higher education\n",
    "6. don’t know"
   ]
  },
  {
   "cell_type": "code",
   "execution_count": 112,
   "metadata": {
    "collapsed": false
   },
   "outputs": [
    {
     "name": "stderr",
     "output_type": "stream",
     "text": [
      "C:\\Users\\campb\\AppData\\Local\\Temp\\ipykernel_41236\\1677713630.py:5: FutureWarning: A value is trying to be set on a copy of a DataFrame or Series through chained assignment using an inplace method.\n",
      "The behavior will change in pandas 3.0. This inplace method will never work because the intermediate object on which we are setting values always behaves as a copy.\n",
      "\n",
      "For example, when doing 'df[col].method(value, inplace=True)', try using 'df.method({col: value}, inplace=True)' or df[col] = df[col].method(value) instead, to perform the operation inplace on the original object.\n",
      "\n",
      "\n",
      "  europe_df.V010be.replace([2,3], 2, inplace=True) #primary\n",
      "C:\\Users\\campb\\AppData\\Local\\Temp\\ipykernel_41236\\1677713630.py:6: FutureWarning: A value is trying to be set on a copy of a DataFrame or Series through chained assignment using an inplace method.\n",
      "The behavior will change in pandas 3.0. This inplace method will never work because the intermediate object on which we are setting values always behaves as a copy.\n",
      "\n",
      "For example, when doing 'df[col].method(value, inplace=True)', try using 'df.method({col: value}, inplace=True)' or df[col] = df[col].method(value) instead, to perform the operation inplace on the original object.\n",
      "\n",
      "\n",
      "  europe_df.V010be.replace([4,5,9,10], 3, inplace=True) #secondary\n",
      "C:\\Users\\campb\\AppData\\Local\\Temp\\ipykernel_41236\\1677713630.py:7: FutureWarning: A value is trying to be set on a copy of a DataFrame or Series through chained assignment using an inplace method.\n",
      "The behavior will change in pandas 3.0. This inplace method will never work because the intermediate object on which we are setting values always behaves as a copy.\n",
      "\n",
      "For example, when doing 'df[col].method(value, inplace=True)', try using 'df.method({col: value}, inplace=True)' or df[col] = df[col].method(value) instead, to perform the operation inplace on the original object.\n",
      "\n",
      "\n",
      "  europe_df.V010be.replace([6,7,8,11], 4, inplace=True) #job training\n",
      "C:\\Users\\campb\\AppData\\Local\\Temp\\ipykernel_41236\\1677713630.py:8: FutureWarning: A value is trying to be set on a copy of a DataFrame or Series through chained assignment using an inplace method.\n",
      "The behavior will change in pandas 3.0. This inplace method will never work because the intermediate object on which we are setting values always behaves as a copy.\n",
      "\n",
      "For example, when doing 'df[col].method(value, inplace=True)', try using 'df.method({col: value}, inplace=True)' or df[col] = df[col].method(value) instead, to perform the operation inplace on the original object.\n",
      "\n",
      "\n",
      "  europe_df.V010be.replace([12,13,14,15,16,17,18], 5, inplace=True) # higher education\n",
      "C:\\Users\\campb\\AppData\\Local\\Temp\\ipykernel_41236\\1677713630.py:9: FutureWarning: A value is trying to be set on a copy of a DataFrame or Series through chained assignment using an inplace method.\n",
      "The behavior will change in pandas 3.0. This inplace method will never work because the intermediate object on which we are setting values always behaves as a copy.\n",
      "\n",
      "For example, when doing 'df[col].method(value, inplace=True)', try using 'df.method({col: value}, inplace=True)' or df[col] = df[col].method(value) instead, to perform the operation inplace on the original object.\n",
      "\n",
      "\n",
      "  europe_df.V010be.replace(19, 6, inplace=True) # dont know\n"
     ]
    }
   ],
   "source": [
    "# unify education column across all countries\n",
    "# 5 groups 1. no schooling 2. primary 3.secondary 4. training and education in a specific trade or profession) 5. higher education 6. don’t know\n",
    "#1. no schooling already matches across all country columns\n",
    "# Belgium:\n",
    "europe_df.V010be.replace([2,3], 2, inplace=True) #primary\n",
    "europe_df.V010be.replace([4,5,9,10], 3, inplace=True) #secondary\n",
    "europe_df.V010be.replace([6,7,8,11], 4, inplace=True) #job training\n",
    "europe_df.V010be.replace([12,13,14,15,16,17,18], 5, inplace=True) # higher education\n",
    "europe_df.V010be.replace(19, 6, inplace=True) # dont know"
   ]
  },
  {
   "cell_type": "code",
   "execution_count": 113,
   "metadata": {
    "collapsed": false
   },
   "outputs": [
    {
     "data": {
      "text/plain": [
       "V010be\n",
       "5.0    919\n",
       "4.0    272\n",
       "3.0    216\n",
       "2.0     80\n",
       "1.0     10\n",
       "6.0      8\n",
       "Name: count, dtype: int64"
      ]
     },
     "execution_count": 113,
     "metadata": {},
     "output_type": "execute_result"
    }
   ],
   "source": [
    "europe_df.V010be.value_counts()"
   ]
  },
  {
   "cell_type": "code",
   "execution_count": 114,
   "metadata": {
    "collapsed": false
   },
   "outputs": [
    {
     "name": "stderr",
     "output_type": "stream",
     "text": [
      "C:\\Users\\campb\\AppData\\Local\\Temp\\ipykernel_41236\\2697467056.py:2: FutureWarning: A value is trying to be set on a copy of a DataFrame or Series through chained assignment using an inplace method.\n",
      "The behavior will change in pandas 3.0. This inplace method will never work because the intermediate object on which we are setting values always behaves as a copy.\n",
      "\n",
      "For example, when doing 'df[col].method(value, inplace=True)', try using 'df.method({col: value}, inplace=True)' or df[col] = df[col].method(value) instead, to perform the operation inplace on the original object.\n",
      "\n",
      "\n",
      "  europe_df.V010at.replace([3,4,5,8,10], 3, inplace=True) #secondary\n",
      "C:\\Users\\campb\\AppData\\Local\\Temp\\ipykernel_41236\\2697467056.py:3: FutureWarning: A value is trying to be set on a copy of a DataFrame or Series through chained assignment using an inplace method.\n",
      "The behavior will change in pandas 3.0. This inplace method will never work because the intermediate object on which we are setting values always behaves as a copy.\n",
      "\n",
      "For example, when doing 'df[col].method(value, inplace=True)', try using 'df.method({col: value}, inplace=True)' or df[col] = df[col].method(value) instead, to perform the operation inplace on the original object.\n",
      "\n",
      "\n",
      "  europe_df.V010at.replace([6,7,9,11], 4, inplace=True) #job training\n",
      "C:\\Users\\campb\\AppData\\Local\\Temp\\ipykernel_41236\\2697467056.py:4: FutureWarning: A value is trying to be set on a copy of a DataFrame or Series through chained assignment using an inplace method.\n",
      "The behavior will change in pandas 3.0. This inplace method will never work because the intermediate object on which we are setting values always behaves as a copy.\n",
      "\n",
      "For example, when doing 'df[col].method(value, inplace=True)', try using 'df.method({col: value}, inplace=True)' or df[col] = df[col].method(value) instead, to perform the operation inplace on the original object.\n",
      "\n",
      "\n",
      "  europe_df.V010at.replace([12,13,14,15,16,17,18], 5, inplace=True) # higher education\n",
      "C:\\Users\\campb\\AppData\\Local\\Temp\\ipykernel_41236\\2697467056.py:5: FutureWarning: A value is trying to be set on a copy of a DataFrame or Series through chained assignment using an inplace method.\n",
      "The behavior will change in pandas 3.0. This inplace method will never work because the intermediate object on which we are setting values always behaves as a copy.\n",
      "\n",
      "For example, when doing 'df[col].method(value, inplace=True)', try using 'df.method({col: value}, inplace=True)' or df[col] = df[col].method(value) instead, to perform the operation inplace on the original object.\n",
      "\n",
      "\n",
      "  europe_df.V010at.replace(19, 6, inplace=True) # dont know\n"
     ]
    }
   ],
   "source": [
    "# Austria primary matches\n",
    "europe_df.V010at.replace([3,4,5,8,10], 3, inplace=True) #secondary\n",
    "europe_df.V010at.replace([6,7,9,11], 4, inplace=True) #job training\n",
    "europe_df.V010at.replace([12,13,14,15,16,17,18], 5, inplace=True) # higher education\n",
    "europe_df.V010at.replace(19, 6, inplace=True) # dont know"
   ]
  },
  {
   "cell_type": "code",
   "execution_count": 115,
   "metadata": {
    "collapsed": false
   },
   "outputs": [
    {
     "data": {
      "text/plain": [
       "V010at\n",
       "4.0    745\n",
       "3.0    434\n",
       "5.0    336\n",
       "2.0      3\n",
       "6.0      1\n",
       "1.0      1\n",
       "Name: count, dtype: int64"
      ]
     },
     "execution_count": 115,
     "metadata": {},
     "output_type": "execute_result"
    }
   ],
   "source": [
    "europe_df.V010at.value_counts()"
   ]
  },
  {
   "cell_type": "code",
   "execution_count": 116,
   "metadata": {
    "collapsed": false
   },
   "outputs": [
    {
     "name": "stderr",
     "output_type": "stream",
     "text": [
      "C:\\Users\\campb\\AppData\\Local\\Temp\\ipykernel_41236\\2702176057.py:2: FutureWarning: A value is trying to be set on a copy of a DataFrame or Series through chained assignment using an inplace method.\n",
      "The behavior will change in pandas 3.0. This inplace method will never work because the intermediate object on which we are setting values always behaves as a copy.\n",
      "\n",
      "For example, when doing 'df[col].method(value, inplace=True)', try using 'df.method({col: value}, inplace=True)' or df[col] = df[col].method(value) instead, to perform the operation inplace on the original object.\n",
      "\n",
      "\n",
      "  europe_df.V010de.replace([3,4,5,6], 3, inplace=True) #secondary\n",
      "C:\\Users\\campb\\AppData\\Local\\Temp\\ipykernel_41236\\2702176057.py:3: FutureWarning: A value is trying to be set on a copy of a DataFrame or Series through chained assignment using an inplace method.\n",
      "The behavior will change in pandas 3.0. This inplace method will never work because the intermediate object on which we are setting values always behaves as a copy.\n",
      "\n",
      "For example, when doing 'df[col].method(value, inplace=True)', try using 'df.method({col: value}, inplace=True)' or df[col] = df[col].method(value) instead, to perform the operation inplace on the original object.\n",
      "\n",
      "\n",
      "  europe_df.V010de.replace(7, 4, inplace=True) #job training\n",
      "C:\\Users\\campb\\AppData\\Local\\Temp\\ipykernel_41236\\2702176057.py:4: FutureWarning: A value is trying to be set on a copy of a DataFrame or Series through chained assignment using an inplace method.\n",
      "The behavior will change in pandas 3.0. This inplace method will never work because the intermediate object on which we are setting values always behaves as a copy.\n",
      "\n",
      "For example, when doing 'df[col].method(value, inplace=True)', try using 'df.method({col: value}, inplace=True)' or df[col] = df[col].method(value) instead, to perform the operation inplace on the original object.\n",
      "\n",
      "\n",
      "  europe_df.V010de.replace([8,9], 5, inplace=True) # higher education\n",
      "C:\\Users\\campb\\AppData\\Local\\Temp\\ipykernel_41236\\2702176057.py:5: FutureWarning: A value is trying to be set on a copy of a DataFrame or Series through chained assignment using an inplace method.\n",
      "The behavior will change in pandas 3.0. This inplace method will never work because the intermediate object on which we are setting values always behaves as a copy.\n",
      "\n",
      "For example, when doing 'df[col].method(value, inplace=True)', try using 'df.method({col: value}, inplace=True)' or df[col] = df[col].method(value) instead, to perform the operation inplace on the original object.\n",
      "\n",
      "\n",
      "  europe_df.V010de.replace(10, 6, inplace=True) # dont know\n"
     ]
    }
   ],
   "source": [
    "# Germany primary matches\n",
    "europe_df.V010de.replace([3,4,5,6], 3, inplace=True) #secondary\n",
    "europe_df.V010de.replace(7, 4, inplace=True) #job training\n",
    "europe_df.V010de.replace([8,9], 5, inplace=True) # higher education\n",
    "europe_df.V010de.replace(10, 6, inplace=True) # dont know"
   ]
  },
  {
   "cell_type": "code",
   "execution_count": 117,
   "metadata": {
    "collapsed": false
   },
   "outputs": [
    {
     "data": {
      "text/plain": [
       "V010de\n",
       "3.0    553\n",
       "5.0    506\n",
       "4.0    455\n",
       "1.0      4\n",
       "2.0      2\n",
       "6.0      1\n",
       "Name: count, dtype: int64"
      ]
     },
     "execution_count": 117,
     "metadata": {},
     "output_type": "execute_result"
    }
   ],
   "source": [
    "europe_df.V010de.value_counts()"
   ]
  },
  {
   "cell_type": "code",
   "execution_count": 118,
   "metadata": {
    "collapsed": false
   },
   "outputs": [
    {
     "name": "stderr",
     "output_type": "stream",
     "text": [
      "C:\\Users\\campb\\AppData\\Local\\Temp\\ipykernel_41236\\2174945959.py:2: FutureWarning: A value is trying to be set on a copy of a DataFrame or Series through chained assignment using an inplace method.\n",
      "The behavior will change in pandas 3.0. This inplace method will never work because the intermediate object on which we are setting values always behaves as a copy.\n",
      "\n",
      "For example, when doing 'df[col].method(value, inplace=True)', try using 'df.method({col: value}, inplace=True)' or df[col] = df[col].method(value) instead, to perform the operation inplace on the original object.\n",
      "\n",
      "\n",
      "  europe_df.V010es.replace([2,3,4,5,6,7], 2, inplace=True) #primary\n",
      "C:\\Users\\campb\\AppData\\Local\\Temp\\ipykernel_41236\\2174945959.py:3: FutureWarning: A value is trying to be set on a copy of a DataFrame or Series through chained assignment using an inplace method.\n",
      "The behavior will change in pandas 3.0. This inplace method will never work because the intermediate object on which we are setting values always behaves as a copy.\n",
      "\n",
      "For example, when doing 'df[col].method(value, inplace=True)', try using 'df.method({col: value}, inplace=True)' or df[col] = df[col].method(value) instead, to perform the operation inplace on the original object.\n",
      "\n",
      "\n",
      "  europe_df.V010es.replace([8,9,10,11,12], 3, inplace=True) #secondary\n",
      "C:\\Users\\campb\\AppData\\Local\\Temp\\ipykernel_41236\\2174945959.py:4: FutureWarning: A value is trying to be set on a copy of a DataFrame or Series through chained assignment using an inplace method.\n",
      "The behavior will change in pandas 3.0. This inplace method will never work because the intermediate object on which we are setting values always behaves as a copy.\n",
      "\n",
      "For example, when doing 'df[col].method(value, inplace=True)', try using 'df.method({col: value}, inplace=True)' or df[col] = df[col].method(value) instead, to perform the operation inplace on the original object.\n",
      "\n",
      "\n",
      "  europe_df.V010es.replace([13,14,15,16,17,18,19,20,21,22,23,24], 4, inplace=True) #job training\n",
      "C:\\Users\\campb\\AppData\\Local\\Temp\\ipykernel_41236\\2174945959.py:5: FutureWarning: A value is trying to be set on a copy of a DataFrame or Series through chained assignment using an inplace method.\n",
      "The behavior will change in pandas 3.0. This inplace method will never work because the intermediate object on which we are setting values always behaves as a copy.\n",
      "\n",
      "For example, when doing 'df[col].method(value, inplace=True)', try using 'df.method({col: value}, inplace=True)' or df[col] = df[col].method(value) instead, to perform the operation inplace on the original object.\n",
      "\n",
      "\n",
      "  europe_df.V010es.replace([25,26,27], 5, inplace=True) # higher education\n",
      "C:\\Users\\campb\\AppData\\Local\\Temp\\ipykernel_41236\\2174945959.py:6: FutureWarning: A value is trying to be set on a copy of a DataFrame or Series through chained assignment using an inplace method.\n",
      "The behavior will change in pandas 3.0. This inplace method will never work because the intermediate object on which we are setting values always behaves as a copy.\n",
      "\n",
      "For example, when doing 'df[col].method(value, inplace=True)', try using 'df.method({col: value}, inplace=True)' or df[col] = df[col].method(value) instead, to perform the operation inplace on the original object.\n",
      "\n",
      "\n",
      "  europe_df.V010es.replace(28, 6, inplace=True) # dont know\n"
     ]
    }
   ],
   "source": [
    "# Spain:\n",
    "europe_df.V010es.replace([2,3,4,5,6,7], 2, inplace=True) #primary\n",
    "europe_df.V010es.replace([8,9,10,11,12], 3, inplace=True) #secondary\n",
    "europe_df.V010es.replace([13,14,15,16,17,18,19,20,21,22,23,24], 4, inplace=True) #job training\n",
    "europe_df.V010es.replace([25,26,27], 5, inplace=True) # higher education\n",
    "europe_df.V010es.replace(28, 6, inplace=True) # dont know"
   ]
  },
  {
   "cell_type": "code",
   "execution_count": 119,
   "metadata": {
    "collapsed": false
   },
   "outputs": [
    {
     "data": {
      "text/plain": [
       "V010es\n",
       "5.0    635\n",
       "4.0    440\n",
       "3.0    345\n",
       "2.0     86\n",
       "6.0      6\n",
       "Name: count, dtype: int64"
      ]
     },
     "execution_count": 119,
     "metadata": {},
     "output_type": "execute_result"
    }
   ],
   "source": [
    "europe_df.V010es.value_counts()"
   ]
  },
  {
   "cell_type": "code",
   "execution_count": 120,
   "metadata": {
    "collapsed": false
   },
   "outputs": [
    {
     "name": "stderr",
     "output_type": "stream",
     "text": [
      "C:\\Users\\campb\\AppData\\Local\\Temp\\ipykernel_41236\\3920124941.py:2: FutureWarning: A value is trying to be set on a copy of a DataFrame or Series through chained assignment using an inplace method.\n",
      "The behavior will change in pandas 3.0. This inplace method will never work because the intermediate object on which we are setting values always behaves as a copy.\n",
      "\n",
      "For example, when doing 'df[col].method(value, inplace=True)', try using 'df.method({col: value}, inplace=True)' or df[col] = df[col].method(value) instead, to perform the operation inplace on the original object.\n",
      "\n",
      "\n",
      "  europe_df.V010it.replace([4,6,8,9], 3, inplace=True) #secondary\n",
      "C:\\Users\\campb\\AppData\\Local\\Temp\\ipykernel_41236\\3920124941.py:3: FutureWarning: A value is trying to be set on a copy of a DataFrame or Series through chained assignment using an inplace method.\n",
      "The behavior will change in pandas 3.0. This inplace method will never work because the intermediate object on which we are setting values always behaves as a copy.\n",
      "\n",
      "For example, when doing 'df[col].method(value, inplace=True)', try using 'df.method({col: value}, inplace=True)' or df[col] = df[col].method(value) instead, to perform the operation inplace on the original object.\n",
      "\n",
      "\n",
      "  europe_df.V010it.replace([3,5,7,10,11], 4, inplace=True) #job training\n",
      "C:\\Users\\campb\\AppData\\Local\\Temp\\ipykernel_41236\\3920124941.py:4: FutureWarning: A value is trying to be set on a copy of a DataFrame or Series through chained assignment using an inplace method.\n",
      "The behavior will change in pandas 3.0. This inplace method will never work because the intermediate object on which we are setting values always behaves as a copy.\n",
      "\n",
      "For example, when doing 'df[col].method(value, inplace=True)', try using 'df.method({col: value}, inplace=True)' or df[col] = df[col].method(value) instead, to perform the operation inplace on the original object.\n",
      "\n",
      "\n",
      "  europe_df.V010it.replace([12,13,14,15,16,17,18,19,20,21], 5, inplace=True) # higher education\n",
      "C:\\Users\\campb\\AppData\\Local\\Temp\\ipykernel_41236\\3920124941.py:5: FutureWarning: A value is trying to be set on a copy of a DataFrame or Series through chained assignment using an inplace method.\n",
      "The behavior will change in pandas 3.0. This inplace method will never work because the intermediate object on which we are setting values always behaves as a copy.\n",
      "\n",
      "For example, when doing 'df[col].method(value, inplace=True)', try using 'df.method({col: value}, inplace=True)' or df[col] = df[col].method(value) instead, to perform the operation inplace on the original object.\n",
      "\n",
      "\n",
      "  europe_df.V010it.replace(22, 6, inplace=True) # dont know\n"
     ]
    }
   ],
   "source": [
    "#Italy primary matches\n",
    "europe_df.V010it.replace([4,6,8,9], 3, inplace=True) #secondary\n",
    "europe_df.V010it.replace([3,5,7,10,11], 4, inplace=True) #job training\n",
    "europe_df.V010it.replace([12,13,14,15,16,17,18,19,20,21], 5, inplace=True) # higher education\n",
    "europe_df.V010it.replace(22, 6, inplace=True) # dont know"
   ]
  },
  {
   "cell_type": "code",
   "execution_count": 121,
   "metadata": {
    "collapsed": false
   },
   "outputs": [
    {
     "data": {
      "text/plain": [
       "V010it\n",
       "4.0    967\n",
       "5.0    529\n",
       "2.0      9\n",
       "1.0      4\n",
       "6.0      1\n",
       "Name: count, dtype: int64"
      ]
     },
     "execution_count": 121,
     "metadata": {},
     "output_type": "execute_result"
    }
   ],
   "source": [
    "europe_df.V010it.value_counts()"
   ]
  },
  {
   "cell_type": "code",
   "execution_count": 122,
   "metadata": {
    "collapsed": false
   },
   "outputs": [
    {
     "name": "stderr",
     "output_type": "stream",
     "text": [
      "C:\\Users\\campb\\AppData\\Local\\Temp\\ipykernel_41236\\3581157433.py:2: FutureWarning: A value is trying to be set on a copy of a DataFrame or Series through chained assignment using an inplace method.\n",
      "The behavior will change in pandas 3.0. This inplace method will never work because the intermediate object on which we are setting values always behaves as a copy.\n",
      "\n",
      "For example, when doing 'df[col].method(value, inplace=True)', try using 'df.method({col: value}, inplace=True)' or df[col] = df[col].method(value) instead, to perform the operation inplace on the original object.\n",
      "\n",
      "\n",
      "  europe_df.V010hu.replace([2,3], 2, inplace=True) #primary\n",
      "C:\\Users\\campb\\AppData\\Local\\Temp\\ipykernel_41236\\3581157433.py:3: FutureWarning: A value is trying to be set on a copy of a DataFrame or Series through chained assignment using an inplace method.\n",
      "The behavior will change in pandas 3.0. This inplace method will never work because the intermediate object on which we are setting values always behaves as a copy.\n",
      "\n",
      "For example, when doing 'df[col].method(value, inplace=True)', try using 'df.method({col: value}, inplace=True)' or df[col] = df[col].method(value) instead, to perform the operation inplace on the original object.\n",
      "\n",
      "\n",
      "  europe_df.V010hu.replace([6,7], 3, inplace=True) #secondary\n",
      "C:\\Users\\campb\\AppData\\Local\\Temp\\ipykernel_41236\\3581157433.py:4: FutureWarning: A value is trying to be set on a copy of a DataFrame or Series through chained assignment using an inplace method.\n",
      "The behavior will change in pandas 3.0. This inplace method will never work because the intermediate object on which we are setting values always behaves as a copy.\n",
      "\n",
      "For example, when doing 'df[col].method(value, inplace=True)', try using 'df.method({col: value}, inplace=True)' or df[col] = df[col].method(value) instead, to perform the operation inplace on the original object.\n",
      "\n",
      "\n",
      "  europe_df.V010hu.replace([4,5,8,9], 4, inplace=True) #job training\n",
      "C:\\Users\\campb\\AppData\\Local\\Temp\\ipykernel_41236\\3581157433.py:5: FutureWarning: A value is trying to be set on a copy of a DataFrame or Series through chained assignment using an inplace method.\n",
      "The behavior will change in pandas 3.0. This inplace method will never work because the intermediate object on which we are setting values always behaves as a copy.\n",
      "\n",
      "For example, when doing 'df[col].method(value, inplace=True)', try using 'df.method({col: value}, inplace=True)' or df[col] = df[col].method(value) instead, to perform the operation inplace on the original object.\n",
      "\n",
      "\n",
      "  europe_df.V010hu.replace([10,11,12,13,14], 5, inplace=True) # higher education\n",
      "C:\\Users\\campb\\AppData\\Local\\Temp\\ipykernel_41236\\3581157433.py:6: FutureWarning: A value is trying to be set on a copy of a DataFrame or Series through chained assignment using an inplace method.\n",
      "The behavior will change in pandas 3.0. This inplace method will never work because the intermediate object on which we are setting values always behaves as a copy.\n",
      "\n",
      "For example, when doing 'df[col].method(value, inplace=True)', try using 'df.method({col: value}, inplace=True)' or df[col] = df[col].method(value) instead, to perform the operation inplace on the original object.\n",
      "\n",
      "\n",
      "  europe_df.V010hu.replace(15, 6, inplace=True) # dont know\n"
     ]
    }
   ],
   "source": [
    "# Hungary:\n",
    "europe_df.V010hu.replace([2,3], 2, inplace=True) #primary\n",
    "europe_df.V010hu.replace([6,7], 3, inplace=True) #secondary\n",
    "europe_df.V010hu.replace([4,5,8,9], 4, inplace=True) #job training\n",
    "europe_df.V010hu.replace([10,11,12,13,14], 5, inplace=True) # higher education\n",
    "europe_df.V010hu.replace(15, 6, inplace=True) # dont know"
   ]
  },
  {
   "cell_type": "code",
   "execution_count": 123,
   "metadata": {
    "collapsed": false
   },
   "outputs": [
    {
     "data": {
      "text/plain": [
       "V010hu\n",
       "5.0    524\n",
       "4.0    500\n",
       "3.0    439\n",
       "2.0     49\n",
       "6.0      2\n",
       "Name: count, dtype: int64"
      ]
     },
     "execution_count": 123,
     "metadata": {},
     "output_type": "execute_result"
    }
   ],
   "source": [
    "europe_df.V010hu.value_counts()"
   ]
  },
  {
   "cell_type": "code",
   "execution_count": 124,
   "metadata": {
    "collapsed": false
   },
   "outputs": [
    {
     "name": "stderr",
     "output_type": "stream",
     "text": [
      "C:\\Users\\campb\\AppData\\Local\\Temp\\ipykernel_41236\\3880779314.py:2: FutureWarning: A value is trying to be set on a copy of a DataFrame or Series through chained assignment using an inplace method.\n",
      "The behavior will change in pandas 3.0. This inplace method will never work because the intermediate object on which we are setting values always behaves as a copy.\n",
      "\n",
      "For example, when doing 'df[col].method(value, inplace=True)', try using 'df.method({col: value}, inplace=True)' or df[col] = df[col].method(value) instead, to perform the operation inplace on the original object.\n",
      "\n",
      "\n",
      "  europe_df.V010se.replace([2,3], 2, inplace=True) #primary\n",
      "C:\\Users\\campb\\AppData\\Local\\Temp\\ipykernel_41236\\3880779314.py:3: FutureWarning: A value is trying to be set on a copy of a DataFrame or Series through chained assignment using an inplace method.\n",
      "The behavior will change in pandas 3.0. This inplace method will never work because the intermediate object on which we are setting values always behaves as a copy.\n",
      "\n",
      "For example, when doing 'df[col].method(value, inplace=True)', try using 'df.method({col: value}, inplace=True)' or df[col] = df[col].method(value) instead, to perform the operation inplace on the original object.\n",
      "\n",
      "\n",
      "  europe_df.V010se.replace([5,6,8], 3, inplace=True) #secondary\n",
      "C:\\Users\\campb\\AppData\\Local\\Temp\\ipykernel_41236\\3880779314.py:4: FutureWarning: A value is trying to be set on a copy of a DataFrame or Series through chained assignment using an inplace method.\n",
      "The behavior will change in pandas 3.0. This inplace method will never work because the intermediate object on which we are setting values always behaves as a copy.\n",
      "\n",
      "For example, when doing 'df[col].method(value, inplace=True)', try using 'df.method({col: value}, inplace=True)' or df[col] = df[col].method(value) instead, to perform the operation inplace on the original object.\n",
      "\n",
      "\n",
      "  europe_df.V010se.replace([4,7,10,12], 4, inplace=True) #job training\n",
      "C:\\Users\\campb\\AppData\\Local\\Temp\\ipykernel_41236\\3880779314.py:5: FutureWarning: A value is trying to be set on a copy of a DataFrame or Series through chained assignment using an inplace method.\n",
      "The behavior will change in pandas 3.0. This inplace method will never work because the intermediate object on which we are setting values always behaves as a copy.\n",
      "\n",
      "For example, when doing 'df[col].method(value, inplace=True)', try using 'df.method({col: value}, inplace=True)' or df[col] = df[col].method(value) instead, to perform the operation inplace on the original object.\n",
      "\n",
      "\n",
      "  europe_df.V010se.replace([9,11,13,14,15,16,17,18,19,20], 5, inplace=True) # higher education\n",
      "C:\\Users\\campb\\AppData\\Local\\Temp\\ipykernel_41236\\3880779314.py:6: FutureWarning: A value is trying to be set on a copy of a DataFrame or Series through chained assignment using an inplace method.\n",
      "The behavior will change in pandas 3.0. This inplace method will never work because the intermediate object on which we are setting values always behaves as a copy.\n",
      "\n",
      "For example, when doing 'df[col].method(value, inplace=True)', try using 'df.method({col: value}, inplace=True)' or df[col] = df[col].method(value) instead, to perform the operation inplace on the original object.\n",
      "\n",
      "\n",
      "  europe_df.V010se.replace(21, 6, inplace=True) # dont know\n"
     ]
    }
   ],
   "source": [
    "# Sweden:\n",
    "europe_df.V010se.replace([2,3], 2, inplace=True) #primary\n",
    "europe_df.V010se.replace([5,6,8], 3, inplace=True) #secondary\n",
    "europe_df.V010se.replace([4,7,10,12], 4, inplace=True) #job training\n",
    "europe_df.V010se.replace([9,11,13,14,15,16,17,18,19,20], 5, inplace=True) # higher education\n",
    "europe_df.V010se.replace(21, 6, inplace=True) # dont know"
   ]
  },
  {
   "cell_type": "code",
   "execution_count": 125,
   "metadata": {
    "collapsed": false
   },
   "outputs": [
    {
     "data": {
      "text/plain": [
       "V010se\n",
       "5.0    650\n",
       "4.0    398\n",
       "3.0    358\n",
       "2.0     93\n",
       "6.0     12\n",
       "1.0      6\n",
       "Name: count, dtype: int64"
      ]
     },
     "execution_count": 125,
     "metadata": {},
     "output_type": "execute_result"
    }
   ],
   "source": [
    "europe_df.V010se.value_counts()"
   ]
  },
  {
   "cell_type": "markdown",
   "metadata": {
    "collapsed": false
   },
   "source": [
    "## Income\n",
    "We are only interested in the income brackets (Values 1 - 10) I am not sure if this is even necessary. They seem to match pretty well. Only Spain is weird because they have one less."
   ]
  },
  {
   "cell_type": "code",
   "execution_count": 126,
   "metadata": {
    "collapsed": false
   },
   "outputs": [
    {
     "data": {
      "text/plain": [
       "V011es\n",
       "3.0     205\n",
       "5.0     193\n",
       "6.0     180\n",
       "8.0     178\n",
       "4.0     176\n",
       "7.0     161\n",
       "2.0     139\n",
       "1.0      96\n",
       "9.0      96\n",
       "10.0     41\n",
       "11.0     29\n",
       "12.0     18\n",
       "Name: count, dtype: int64"
      ]
     },
     "execution_count": 126,
     "metadata": {},
     "output_type": "execute_result"
    }
   ],
   "source": [
    "# drop columns we don't need.\n",
    "europe_df.V011es.value_counts()"
   ]
  },
  {
   "cell_type": "markdown",
   "metadata": {
    "collapsed": false
   },
   "source": [
    "## Sentiment columns\n",
    "Group into negative and positive feelings towards immigrants"
   ]
  },
  {
   "cell_type": "code",
   "execution_count": 127,
   "metadata": {
    "collapsed": false
   },
   "outputs": [],
   "source": [
    "europe_df['NegativeEmo'] = europe_df['Anger'] + europe_df['Fear'] + europe_df['Disgust']\n",
    "europe_df['PositiveEmo'] = europe_df['Hope'] + europe_df['Sympathy'] + europe_df['Happiness']\n",
    "# Add a binary column based on the overall sentiment\n",
    "europe_df['SentimentBinary'] = np.where(europe_df['NegativeEmo'] > europe_df['PositiveEmo'], 0, 1)\n",
    "# 0 overall negative sentiment\n",
    "# 1 overall positive sentiment"
   ]
  },
  {
   "cell_type": "code",
   "execution_count": 128,
   "metadata": {
    "collapsed": false
   },
   "outputs": [
    {
     "data": {
      "text/plain": [
       "0        1\n",
       "1        1\n",
       "2        1\n",
       "3        1\n",
       "4        1\n",
       "        ..\n",
       "10594    0\n",
       "10595    0\n",
       "10596    1\n",
       "10597    0\n",
       "10598    1\n",
       "Name: SentimentBinary, Length: 10599, dtype: int32"
      ]
     },
     "execution_count": 128,
     "metadata": {},
     "output_type": "execute_result"
    }
   ],
   "source": [
    "europe_df.SentimentBinary"
   ]
  },
  {
   "cell_type": "markdown",
   "metadata": {},
   "source": [
    "V041_1 = anger\n",
    "V041_2 = fear\n",
    "V041_5 = disgust\n",
    "\n",
    "V041_3 = hope\n",
    "V041_4 = sympathy\n",
    "V041_6 = happiness\n",
    "\n",
    "Negative_Sentiment = average or sum of (V041_1, V041_2, V041_5)\n",
    "\n",
    "Positive_Sentiment = average or sum of (V041_3, V041_4, V041_6)\n",
    "\n",
    "For binary label take whichever sentiment is higher \n",
    "\n",
    "We need to pick what vars we care about\n",
    "\n",
    "Can we keep ordinal vars? Just need to make sure they're following the same tred (ex. \"worst\" to \"best\")\n",
    "\n",
    "One-hot encoding for vars without ranking"
   ]
  },
  {
   "cell_type": "code",
   "execution_count": null,
   "metadata": {
    "collapsed": false
   },
   "outputs": [],
   "source": []
  },
  {
   "cell_type": "markdown",
   "metadata": {
    "collapsed": false
   },
   "source": [
    "## Data cleaning"
   ]
  },
  {
   "cell_type": "markdown",
   "metadata": {
    "collapsed": false
   },
   "source": [
    "# 2. Data Exploration"
   ]
  },
  {
   "cell_type": "markdown",
   "metadata": {
    "collapsed": false
   },
   "source": [
    "# Analysis"
   ]
  },
  {
   "cell_type": "code",
   "execution_count": 140,
   "metadata": {},
   "outputs": [],
   "source": [
    "from sklearn.preprocessing import StandardScaler\n",
    "import matplotlib.pyplot as plt\n",
    "import seaborn as sns\n"
   ]
  },
  {
   "cell_type": "code",
   "execution_count": 135,
   "metadata": {},
   "outputs": [],
   "source": [
    "# scaling age\n",
    "scaler = StandardScaler()\n",
    "europe_df[['Age']] = scaler.fit_transform(europe_df[['Age']])"
   ]
  },
  {
   "cell_type": "code",
   "execution_count": 136,
   "metadata": {},
   "outputs": [
    {
     "data": {
      "text/html": [
       "<div>\n",
       "<style scoped>\n",
       "    .dataframe tbody tr th:only-of-type {\n",
       "        vertical-align: middle;\n",
       "    }\n",
       "\n",
       "    .dataframe tbody tr th {\n",
       "        vertical-align: top;\n",
       "    }\n",
       "\n",
       "    .dataframe thead th {\n",
       "        text-align: right;\n",
       "    }\n",
       "</style>\n",
       "<table border=\"1\" class=\"dataframe\">\n",
       "  <thead>\n",
       "    <tr style=\"text-align: right;\">\n",
       "      <th></th>\n",
       "      <th>ID</th>\n",
       "      <th>Age</th>\n",
       "      <th>V004</th>\n",
       "      <th>V005</th>\n",
       "      <th>Parents</th>\n",
       "      <th>OneParent</th>\n",
       "      <th>BothParents</th>\n",
       "      <th>FullTime</th>\n",
       "      <th>PartTime</th>\n",
       "      <th>Disabled</th>\n",
       "      <th>...</th>\n",
       "      <th>Gender_1</th>\n",
       "      <th>Gender_2</th>\n",
       "      <th>MaritalSt_1</th>\n",
       "      <th>MaritalSt_2</th>\n",
       "      <th>MaritalSt_3</th>\n",
       "      <th>MaritalSt_4</th>\n",
       "      <th>MaritalSt_5</th>\n",
       "      <th>NegativeEmo</th>\n",
       "      <th>PositiveEmo</th>\n",
       "      <th>SentimentBinary</th>\n",
       "    </tr>\n",
       "  </thead>\n",
       "  <tbody>\n",
       "    <tr>\n",
       "      <th>0</th>\n",
       "      <td>1</td>\n",
       "      <td>1.499224</td>\n",
       "      <td>1.0</td>\n",
       "      <td>99999.0</td>\n",
       "      <td>1.0</td>\n",
       "      <td>99999.0</td>\n",
       "      <td>99999.0</td>\n",
       "      <td>1</td>\n",
       "      <td>0</td>\n",
       "      <td>0</td>\n",
       "      <td>...</td>\n",
       "      <td>False</td>\n",
       "      <td>True</td>\n",
       "      <td>False</td>\n",
       "      <td>False</td>\n",
       "      <td>True</td>\n",
       "      <td>False</td>\n",
       "      <td>False</td>\n",
       "      <td>6</td>\n",
       "      <td>7</td>\n",
       "      <td>1</td>\n",
       "    </tr>\n",
       "    <tr>\n",
       "      <th>1</th>\n",
       "      <td>2</td>\n",
       "      <td>-0.189406</td>\n",
       "      <td>1.0</td>\n",
       "      <td>99999.0</td>\n",
       "      <td>1.0</td>\n",
       "      <td>99999.0</td>\n",
       "      <td>99999.0</td>\n",
       "      <td>0</td>\n",
       "      <td>0</td>\n",
       "      <td>0</td>\n",
       "      <td>...</td>\n",
       "      <td>False</td>\n",
       "      <td>True</td>\n",
       "      <td>False</td>\n",
       "      <td>True</td>\n",
       "      <td>False</td>\n",
       "      <td>False</td>\n",
       "      <td>False</td>\n",
       "      <td>3</td>\n",
       "      <td>16</td>\n",
       "      <td>1</td>\n",
       "    </tr>\n",
       "    <tr>\n",
       "      <th>2</th>\n",
       "      <td>3</td>\n",
       "      <td>-0.989283</td>\n",
       "      <td>1.0</td>\n",
       "      <td>99999.0</td>\n",
       "      <td>1.0</td>\n",
       "      <td>99999.0</td>\n",
       "      <td>99999.0</td>\n",
       "      <td>1</td>\n",
       "      <td>0</td>\n",
       "      <td>0</td>\n",
       "      <td>...</td>\n",
       "      <td>False</td>\n",
       "      <td>True</td>\n",
       "      <td>False</td>\n",
       "      <td>False</td>\n",
       "      <td>True</td>\n",
       "      <td>False</td>\n",
       "      <td>False</td>\n",
       "      <td>5</td>\n",
       "      <td>13</td>\n",
       "      <td>1</td>\n",
       "    </tr>\n",
       "    <tr>\n",
       "      <th>3</th>\n",
       "      <td>4</td>\n",
       "      <td>0.699346</td>\n",
       "      <td>2.0</td>\n",
       "      <td>2.0</td>\n",
       "      <td>3.0</td>\n",
       "      <td>99999.0</td>\n",
       "      <td>2.0</td>\n",
       "      <td>0</td>\n",
       "      <td>0</td>\n",
       "      <td>0</td>\n",
       "      <td>...</td>\n",
       "      <td>False</td>\n",
       "      <td>True</td>\n",
       "      <td>False</td>\n",
       "      <td>False</td>\n",
       "      <td>True</td>\n",
       "      <td>False</td>\n",
       "      <td>False</td>\n",
       "      <td>3</td>\n",
       "      <td>17</td>\n",
       "      <td>1</td>\n",
       "    </tr>\n",
       "    <tr>\n",
       "      <th>4</th>\n",
       "      <td>5</td>\n",
       "      <td>-0.456032</td>\n",
       "      <td>1.0</td>\n",
       "      <td>99999.0</td>\n",
       "      <td>1.0</td>\n",
       "      <td>99999.0</td>\n",
       "      <td>99999.0</td>\n",
       "      <td>1</td>\n",
       "      <td>0</td>\n",
       "      <td>0</td>\n",
       "      <td>...</td>\n",
       "      <td>True</td>\n",
       "      <td>False</td>\n",
       "      <td>False</td>\n",
       "      <td>False</td>\n",
       "      <td>True</td>\n",
       "      <td>False</td>\n",
       "      <td>False</td>\n",
       "      <td>3</td>\n",
       "      <td>21</td>\n",
       "      <td>1</td>\n",
       "    </tr>\n",
       "  </tbody>\n",
       "</table>\n",
       "<p>5 rows × 59 columns</p>\n",
       "</div>"
      ],
      "text/plain": [
       "   ID       Age  V004     V005  Parents  OneParent  BothParents  FullTime  \\\n",
       "0   1  1.499224   1.0  99999.0      1.0    99999.0      99999.0         1   \n",
       "1   2 -0.189406   1.0  99999.0      1.0    99999.0      99999.0         0   \n",
       "2   3 -0.989283   1.0  99999.0      1.0    99999.0      99999.0         1   \n",
       "3   4  0.699346   2.0      2.0      3.0    99999.0          2.0         0   \n",
       "4   5 -0.456032   1.0  99999.0      1.0    99999.0      99999.0         1   \n",
       "\n",
       "   PartTime  Disabled  ...  Gender_1  Gender_2  MaritalSt_1  MaritalSt_2  \\\n",
       "0         0         0  ...     False      True        False        False   \n",
       "1         0         0  ...     False      True        False         True   \n",
       "2         0         0  ...     False      True        False        False   \n",
       "3         0         0  ...     False      True        False        False   \n",
       "4         0         0  ...      True     False        False        False   \n",
       "\n",
       "   MaritalSt_3  MaritalSt_4  MaritalSt_5  NegativeEmo  PositiveEmo  \\\n",
       "0         True        False        False            6            7   \n",
       "1        False        False        False            3           16   \n",
       "2         True        False        False            5           13   \n",
       "3         True        False        False            3           17   \n",
       "4         True        False        False            3           21   \n",
       "\n",
       "   SentimentBinary  \n",
       "0                1  \n",
       "1                1  \n",
       "2                1  \n",
       "3                1  \n",
       "4                1  \n",
       "\n",
       "[5 rows x 59 columns]"
      ]
     },
     "execution_count": 136,
     "metadata": {},
     "output_type": "execute_result"
    }
   ],
   "source": [
    "europe_df.head()"
   ]
  },
  {
   "cell_type": "code",
   "execution_count": 130,
   "metadata": {},
   "outputs": [
    {
     "data": {
      "text/plain": [
       "Index(['ID', 'Age', 'V004', 'V005', 'Parents', 'OneParent', 'BothParents',\n",
       "       'FullTime', 'PartTime', 'Disabled', 'Student', 'Houseman', 'Unemployed',\n",
       "       'Retired', 'Military', 'Other', 'V010be', 'V010at', 'V010de', 'V010es',\n",
       "       'V010it', 'V010hu', 'V010se', 'V011be', 'V011at', 'V011de', 'V011es',\n",
       "       'V011it', 'V011hu', 'V011se', 'EndsMeet', 'PoliAff', 'Religion',\n",
       "       'ReligionImp', 'ResidenceType', 'FeelingThermometer', 'Anger', 'Fear',\n",
       "       'Hope', 'Sympathy', 'Disgust', 'Happiness', 'Country_1', 'Country_2',\n",
       "       'Country_3', 'Country_4', 'Country_5', 'Country_6', 'Country_7',\n",
       "       'Gender_1', 'Gender_2', 'MaritalSt_1', 'MaritalSt_2', 'MaritalSt_3',\n",
       "       'MaritalSt_4', 'MaritalSt_5', 'NegativeEmo', 'PositiveEmo',\n",
       "       'SentimentBinary'],\n",
       "      dtype='object')"
      ]
     },
     "execution_count": 130,
     "metadata": {},
     "output_type": "execute_result"
    }
   ],
   "source": [
    "europe_df.keys()"
   ]
  },
  {
   "cell_type": "markdown",
   "metadata": {},
   "source": [
    "## Plots"
   ]
  },
  {
   "cell_type": "markdown",
   "metadata": {},
   "source": [
    "### Distribution of FeelingThermometer by Employment Status"
   ]
  },
  {
   "cell_type": "code",
   "execution_count": 143,
   "metadata": {
    "collapsed": false
   },
   "outputs": [
    {
     "data": {
      "image/png": "[encoded data removed]",
      "text/plain": [
       "<Figure size 800x400 with 1 Axes>"
      ]
     },
     "metadata": {},
     "output_type": "display_data"
    },
    {
     "data": {
      "image/png": "[encoded data removed]",
      "text/plain": [
       "<Figure size 800x400 with 1 Axes>"
      ]
     },
     "metadata": {},
     "output_type": "display_data"
    },
    {
     "data": {
      "image/png": "[encoded data removed]",
      "text/plain": [
       "<Figure size 800x400 with 1 Axes>"
      ]
     },
     "metadata": {},
     "output_type": "display_data"
    },
    {
     "data": {
      "image/png": "[encoded data removed]",
      "text/plain": [
       "<Figure size 800x400 with 1 Axes>"
      ]
     },
     "metadata": {},
     "output_type": "display_data"
    },
    {
     "data": {
      "image/png": "[encoded data removed]",
      "text/plain": [
       "<Figure size 800x400 with 1 Axes>"
      ]
     },
     "metadata": {},
     "output_type": "display_data"
    },
    {
     "data": {
      "image/png": "[encoded data removed]",
      "text/plain": [
       "<Figure size 800x400 with 1 Axes>"
      ]
     },
     "metadata": {},
     "output_type": "display_data"
    },
    {
     "data": {
      "image/png": "[encoded data removed]",
      "text/plain": [
       "<Figure size 800x400 with 1 Axes>"
      ]
     },
     "metadata": {},
     "output_type": "display_data"
    },
    {
     "data": {
      "image/png": "[encoded data removed]",
      "text/plain": [
       "<Figure size 800x400 with 1 Axes>"
      ]
     },
     "metadata": {},
     "output_type": "display_data"
    },
    {
     "data": {
      "image/png": "[encoded data removed]",
      "text/plain": [
       "<Figure size 800x400 with 1 Axes>"
      ]
     },
     "metadata": {},
     "output_type": "display_data"
    }
   ],
   "source": [
    "# Distribution of FeelingThermometer across different employment statuses\n",
    "employment_status_cols = ['FullTime', 'PartTime', 'Disabled', 'Student', 'Houseman', 'Unemployed', 'Retired', 'Military', 'Other']\n",
    "for col in employment_status_cols:\n",
    "    plt.figure(figsize=(8, 4))\n",
    "    sns.histplot(data=europe_df[europe_df[col] == 1], x='FeelingThermometer', bins=10)\n",
    "    plt.title(f\"Distribution of FeelingThermometer by Employment Status: {col}\")\n",
    "    plt.xlabel(\"FeelingThermometer (1-10)\")\n",
    "    plt.ylabel(\"Count\")\n",
    "    plt.show()"
   ]
  },
  {
   "cell_type": "markdown",
   "metadata": {},
   "source": [
    "### Gender sentiment comparison"
   ]
  },
  {
   "cell_type": "code",
   "execution_count": 148,
   "metadata": {},
   "outputs": [
    {
     "data": {
      "image/png": "[encoded data removed]",
      "text/plain": [
       "<Figure size 800x400 with 1 Axes>"
      ]
     },
     "metadata": {},
     "output_type": "display_data"
    },
    {
     "data": {
      "image/png": "[encoded data removed]",
      "text/plain": [
       "<Figure size 800x400 with 1 Axes>"
      ]
     },
     "metadata": {},
     "output_type": "display_data"
    }
   ],
   "source": [
    "gender_cols = ['Gender_1', 'Gender_2']\n",
    "for col in gender_cols:\n",
    "    if europe_df[col].sum() > 0:  # only plot if there are respondents in the group\n",
    "        plt.figure(figsize=(8, 4))\n",
    "        sns.countplot(data=europe_df[europe_df[col] == 1], x='SentimentBinary')\n",
    "        plt.title(f\"SentimentBinary by Gender: {col}\")\n",
    "        plt.xlabel(\"SentimentBinary (0 = Negative, 1 = Positive)\")\n",
    "        plt.ylabel(\"Count\")\n",
    "        plt.show()\n",
    "\n",
    "        "
   ]
  },
  {
   "cell_type": "code",
   "execution_count": null,
   "metadata": {},
   "outputs": [],
   "source": []
  }
 ],
 "metadata": {
  "kernelspec": {
   "display_name": "Python 3",
   "language": "python",
   "name": "python3"
  },
  "language_info": {
   "codemirror_mode": {
    "name": "ipython",
    "version": 3
   },
   "file_extension": ".py",
   "mimetype": "text/x-python",
   "name": "python",
   "nbconvert_exporter": "python",
   "pygments_lexer": "ipython3",
   "version": "3.11.9"
  }
 },
 "nbformat": 4,
 "nbformat_minor": 2
}
